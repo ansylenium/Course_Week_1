{
 "cells": [
  {
   "cell_type": "markdown",
   "metadata": {
    "id": "w6RlOAXV2PWh"
   },
   "source": [
    "### `Problem 1`: Write a program that will give you in hand monthly salary after deduction on CTC - HRA(10%), DA(5%), PF(3%) and taxes deduction as below:\n",
    "\n",
    "> Salary(Lakhs) : Tax(%)\n",
    "\n",
    "*   Below 5 : 0%\n",
    "*   5-10 : 10%\n",
    "*   10-20 : 20%\n",
    "*   aboove 20 : 30%"
   ]
  },
  {
   "cell_type": "code",
   "execution_count": null,
   "metadata": {
    "colab": {
     "base_uri": "https://localhost:8080/"
    },
    "executionInfo": {
     "elapsed": 6571,
     "status": "ok",
     "timestamp": 1689235333030,
     "user": {
      "displayName": "Ansyl Pinto",
      "userId": "16721353128853766479"
     },
     "user_tz": -330
    },
    "id": "7tMHvKYO2etI",
    "outputId": "9bf20f1d-bcce-447e-a281-be33d3991451"
   },
   "outputs": [
    {
     "name": "stdout",
     "output_type": "stream",
     "text": [
      "Enter your anual CTC: 10000\n",
      "You in hand monthly salary will be- 683.33\n"
     ]
    }
   ],
   "source": [
    "# Write code here\n",
    "#write your code\n",
    "ctc = int(input('Enter your anual CTC: '))\n",
    "\n",
    "if ctc < 5000000:\n",
    "    salary=ctc*.82\n",
    "elif ctc < 1000000:\n",
    "    salary=ctc*.72\n",
    "elif ctc < 2000000:\n",
    "    salary = ctc*.62\n",
    "else:\n",
    "    salary = ctc*.52\n",
    "\n",
    "print(\"You in hand monthly salary will be-\", round(salary/12,2))"
   ]
  },
  {
   "cell_type": "markdown",
   "metadata": {
    "id": "tYzCGqwl2hfN"
   },
   "source": [
    "### `Problem 2`: Write a program that take a user input of three angles and will find out whether it can form a triangle or not.\n",
    "\n",
    "Hint - Sum of all angles is 180 and all angles are positive"
   ]
  },
  {
   "cell_type": "code",
   "execution_count": null,
   "metadata": {
    "colab": {
     "base_uri": "https://localhost:8080/"
    },
    "executionInfo": {
     "elapsed": 9634,
     "status": "ok",
     "timestamp": 1689154310196,
     "user": {
      "displayName": "Ansyl Pinto",
      "userId": "16721353128853766479"
     },
     "user_tz": -330
    },
    "id": "FYEqln-I2kxV",
    "outputId": "beb91679-e59f-42c4-ba3a-4abd678dd8bb"
   },
   "outputs": [
    {
     "name": "stdout",
     "output_type": "stream",
     "text": [
      "enter the 1st angle 120\n",
      "enter the 2nd angle 40\n",
      "enter the 3rd angle 21\n",
      "does not form a triangle\n"
     ]
    }
   ],
   "source": [
    "# Write code here\n",
    "first = int(input('enter the 1st angle '))\n",
    "second = int(input('enter the 2nd angle '))\n",
    "third = int(input('enter the 3rd angle '))\n",
    "\n",
    "if (first+second+third) == 180 and first>0 and second>0 and third>0:\n",
    "  print('forms a triangle')\n",
    "else:\n",
    "  print('does not form a triangle')"
   ]
  },
  {
   "cell_type": "markdown",
   "metadata": {
    "id": "5vEpPh8C2pE4"
   },
   "source": [
    "### `Problem 3`: Write a program that will take user input of cost price and selling price and determines whether its a loss or a profit."
   ]
  },
  {
   "cell_type": "code",
   "execution_count": null,
   "metadata": {
    "colab": {
     "base_uri": "https://localhost:8080/"
    },
    "executionInfo": {
     "elapsed": 4917,
     "status": "ok",
     "timestamp": 1689154324176,
     "user": {
      "displayName": "Ansyl Pinto",
      "userId": "16721353128853766479"
     },
     "user_tz": -330
    },
    "id": "jDwBXlkO2sfl",
    "outputId": "f236d256-7713-42c1-b18c-7aa25a7c19c5"
   },
   "outputs": [
    {
     "name": "stdout",
     "output_type": "stream",
     "text": [
      "Enter cost price- 45\n",
      "Enter selling price- 55\n",
      "Profit\n"
     ]
    }
   ],
   "source": [
    "# Write code here\n",
    "# write your code here\n",
    "cost_price = int(input('Enter cost price- '))\n",
    "selling_price = int(input('Enter selling price- '))\n",
    "\n",
    "if cost_price < selling_price:\n",
    "    print('Profit')\n",
    "elif cost_price > selling_price:\n",
    "    print('Loss')\n",
    "else:\n",
    "    print('No Loss No Gain')"
   ]
  },
  {
   "cell_type": "markdown",
   "metadata": {
    "id": "J_FG_cJW2ugT"
   },
   "source": [
    "### `Problem 4`: Write a menu-driven program -\n",
    "1. cm to ft\n",
    "2. km to miles\n",
    "3. USD to INR\n",
    "4. exit\n",
    "\n",
    "Hint\n",
    "- 1 cm = 0.032ft\n",
    "- 1km = 0.62\n",
    "- 1 USD = 80 INR"
   ]
  },
  {
   "cell_type": "code",
   "execution_count": 4,
   "metadata": {
    "colab": {
     "base_uri": "https://localhost:8080/"
    },
    "executionInfo": {
     "elapsed": 419,
     "status": "ok",
     "timestamp": 1690388423939,
     "user": {
      "displayName": "Ansyl Pinto",
      "userId": "16721353128853766479"
     },
     "user_tz": -330
    },
    "id": "-wUBtjUf_b7Z",
    "outputId": "c2a776a1-ee33-4580-fd9c-c9877b6c80bf"
   },
   "outputs": [
    {
     "name": "stdout",
     "output_type": "stream",
     "text": [
      "0\n",
      "1\n",
      "1\n",
      "2\n",
      "3\n",
      "5\n",
      "8\n"
     ]
    }
   ],
   "source": [
    "x = 0\n",
    "y = 1\n",
    "for i in range(7):\n",
    "  print(x)\n",
    "  sum = x+y\n",
    "  y = x\n",
    "  x = sum\n"
   ]
  },
  {
   "cell_type": "code",
   "execution_count": null,
   "metadata": {
    "colab": {
     "base_uri": "https://localhost:8080/"
    },
    "executionInfo": {
     "elapsed": 7116,
     "status": "ok",
     "timestamp": 1689154365169,
     "user": {
      "displayName": "Ansyl Pinto",
      "userId": "16721353128853766479"
     },
     "user_tz": -330
    },
    "id": "yBHhaCGQ2zpD",
    "outputId": "d0133f99-f5bb-421d-ee23-044650db2b75"
   },
   "outputs": [
    {
     "name": "stdout",
     "output_type": "stream",
     "text": [
      "\n",
      "Hi select an option\n",
      "1. cms to ft\n",
      "2. km to miles\n",
      "3. USD to INR\n",
      "4. Exit\n",
      "1\n",
      "enter the cm value 12\n",
      "ft value is 0.384\n"
     ]
    }
   ],
   "source": [
    "# Write code here\n",
    "menu = input(\"\"\"\n",
    "Hi select an option\n",
    "1. cms to ft\n",
    "2. km to miles\n",
    "3. USD to INR\n",
    "4. Exit\n",
    "\"\"\")\n",
    "\n",
    "if menu == '1':\n",
    "  cm = float(input('enter the cm value '))\n",
    "  print('ft value is', 0.032*cm)\n",
    "elif menu == '2':\n",
    "  km = float(input('enter the km value '))\n",
    "  print('miles value is', km*0.62)\n",
    "elif menu == '3':\n",
    "  usd = float(input('enter usd '))\n",
    "  print('inr', usd*80)\n",
    "else:\n",
    "  exit()"
   ]
  },
  {
   "cell_type": "markdown",
   "metadata": {
    "id": "LJJ30_Yw27ZU"
   },
   "source": [
    "### `Problem 5` - Exercise 12: Display Fibonacci series up to 10 terms.\n",
    "\n",
    "*Note: The Fibonacci Sequence is a series of numbers. The next number is found by adding up the two numbers before it. The first two numbers are 0 and 1. For example, 0, 1, 1, 2, 3, 5, 8, 13, 21. The next number in this series above is 13+21 = 34*"
   ]
  },
  {
   "cell_type": "code",
   "execution_count": null,
   "metadata": {
    "id": "Lxh79U8k_Yy1"
   },
   "outputs": [],
   "source": []
  },
  {
   "cell_type": "code",
   "execution_count": null,
   "metadata": {
    "colab": {
     "base_uri": "https://localhost:8080/"
    },
    "executionInfo": {
     "elapsed": 10,
     "status": "ok",
     "timestamp": 1689235955185,
     "user": {
      "displayName": "Ansyl Pinto",
      "userId": "16721353128853766479"
     },
     "user_tz": -330
    },
    "id": "V093f8MSRd4M",
    "outputId": "7b4aa2e7-b7b1-49e1-d1b5-0626d3cbce29"
   },
   "outputs": [
    {
     "name": "stdout",
     "output_type": "stream",
     "text": [
      "0 1 1 2 3 5 8 13 21 34 "
     ]
    }
   ],
   "source": [
    "num1 = 0\n",
    "num2 = 1\n",
    "sum = 0\n",
    "\n",
    "for i in range(10):\n",
    "  print(num1, end=' ')\n",
    "  sum = num1 + num2\n",
    "  num1 = num2\n",
    "  num2 = sum\n"
   ]
  },
  {
   "cell_type": "code",
   "execution_count": null,
   "metadata": {
    "colab": {
     "base_uri": "https://localhost:8080/"
    },
    "executionInfo": {
     "elapsed": 485,
     "status": "ok",
     "timestamp": 1668234723825,
     "user": {
      "displayName": "CampusX",
      "userId": "17274569631252575216"
     },
     "user_tz": -330
    },
    "id": "ae_1rpe52-5R",
    "outputId": "20970f5d-b08a-4030-96dd-9b7767d92f77"
   },
   "outputs": [
    {
     "name": "stdout",
     "output_type": "stream",
     "text": [
      "0\n",
      "1\n",
      "1\n",
      "2\n",
      "3\n",
      "5\n",
      "8\n",
      "13\n",
      "21\n",
      "34\n"
     ]
    }
   ],
   "source": [
    "# Write code here\n",
    "\n",
    "num1, num2 = 0, 1\n",
    "\n",
    "for i in range(10):\n",
    "  print(num1)\n",
    "\n",
    "  next = num1 + num2\n",
    "\n",
    "  num1 = num2\n",
    "  num2 = next"
   ]
  },
  {
   "cell_type": "code",
   "execution_count": null,
   "metadata": {
    "id": "PbEl3rAqc3QA"
   },
   "outputs": [],
   "source": [
    "def fibonacci(n):\n",
    "  if n==0:\n",
    "    return 0\n",
    "  if n==1:\n",
    "    return 1\n",
    "  else:\n",
    "    return fibonacci(n-1) + fibonacci(n-2)\n"
   ]
  },
  {
   "cell_type": "code",
   "execution_count": null,
   "metadata": {
    "colab": {
     "base_uri": "https://localhost:8080/"
    },
    "executionInfo": {
     "elapsed": 41,
     "status": "ok",
     "timestamp": 1689236201458,
     "user": {
      "displayName": "Ansyl Pinto",
      "userId": "16721353128853766479"
     },
     "user_tz": -330
    },
    "id": "v9xQvjVKdN4U",
    "outputId": "1071aeb6-fbc6-40ef-930e-b9bc5fe117c1"
   },
   "outputs": [
    {
     "data": {
      "text/plain": [
       "21"
      ]
     },
     "execution_count": 18,
     "metadata": {},
     "output_type": "execute_result"
    }
   ],
   "source": [
    "fibonacci(8)"
   ]
  },
  {
   "cell_type": "markdown",
   "metadata": {
    "id": "pk_I_S4m3PT5"
   },
   "source": [
    "### `Problem 6` - Find the factorial of a given number.\n",
    "\n",
    "Write a program to use the loop to find the factorial of a given number.\n",
    "\n",
    "The factorial (symbol: `!`) means to multiply all whole numbers from the chosen number down to 1.\n",
    "\n",
    "For example: calculate the factorial of 5\n",
    "\n",
    "```bash\n",
    "5! = 5 × 4 × 3 × 2 × 1 = 120\n",
    "```\n",
    "\n",
    "Output:\n",
    "\n",
    "```bash\n",
    "120\n",
    "```"
   ]
  },
  {
   "cell_type": "code",
   "execution_count": null,
   "metadata": {
    "colab": {
     "base_uri": "https://localhost:8080/"
    },
    "executionInfo": {
     "elapsed": 3338,
     "status": "ok",
     "timestamp": 1689154781787,
     "user": {
      "displayName": "Ansyl Pinto",
      "userId": "16721353128853766479"
     },
     "user_tz": -330
    },
    "id": "lzXxHegx3Rkc",
    "outputId": "1992554e-1abb-48d5-e331-3ebb64d90d5f"
   },
   "outputs": [
    {
     "name": "stdout",
     "output_type": "stream",
     "text": [
      "enter the number 5\n",
      "120\n"
     ]
    }
   ],
   "source": [
    "# Write code here\n",
    "num = int(input('enter the number '))\n",
    "\n",
    "fact = 1\n",
    "for i in range(1,num+1):\n",
    "  fact = fact*i\n",
    "\n",
    "print(fact)\n"
   ]
  },
  {
   "cell_type": "markdown",
   "metadata": {
    "id": "-17IOi-g3UpU"
   },
   "source": [
    "### `Problem 7` - Reverse a given integer number.\n",
    "\n",
    "Example:\n",
    "\n",
    "`Input:`\n",
    "\n",
    "```bash\n",
    "76542\n",
    "```\n",
    "\n",
    "`Output:`\n",
    "\n",
    "```bash\n",
    "24567\n",
    "```"
   ]
  },
  {
   "cell_type": "code",
   "execution_count": 6,
   "metadata": {
    "colab": {
     "base_uri": "https://localhost:8080/"
    },
    "executionInfo": {
     "elapsed": 389,
     "status": "ok",
     "timestamp": 1690388669427,
     "user": {
      "displayName": "Ansyl Pinto",
      "userId": "16721353128853766479"
     },
     "user_tz": -330
    },
    "id": "w8ZORk4NANJ4",
    "outputId": "6c69229f-f743-4a74-83e7-79b378a126f8"
   },
   "outputs": [
    {
     "name": "stdout",
     "output_type": "stream",
     "text": [
      "24567\n"
     ]
    }
   ],
   "source": [
    "n = 76542\n",
    "sum = 0\n",
    "while n>0:\n",
    "  ld = n%10\n",
    "  sum = sum*10 + ld\n",
    "  n = n//10\n",
    "print(sum)"
   ]
  },
  {
   "cell_type": "code",
   "execution_count": null,
   "metadata": {
    "colab": {
     "base_uri": "https://localhost:8080/"
    },
    "executionInfo": {
     "elapsed": 4979,
     "status": "ok",
     "timestamp": 1689154822973,
     "user": {
      "displayName": "Ansyl Pinto",
      "userId": "16721353128853766479"
     },
     "user_tz": -330
    },
    "id": "wJwLpKCr3aVA",
    "outputId": "d8b65379-b553-4bb2-d80f-7fc27f529b73"
   },
   "outputs": [
    {
     "name": "stdout",
     "output_type": "stream",
     "text": [
      "enter the number 12\n",
      "21\n"
     ]
    }
   ],
   "source": [
    "# Write code here\n",
    "number = int(input('enter the number '))\n",
    "\n",
    "rev = 0\n",
    "\n",
    "while number>0:\n",
    "  last = number%10\n",
    "  rev = rev*10 + last\n",
    "  number = number//10\n",
    "\n",
    "print(rev)"
   ]
  },
  {
   "cell_type": "markdown",
   "metadata": {
    "id": "-t8PJQaY3sHf"
   },
   "source": [
    "### `Problem 8`: Take a user input as integer N. Find out the sum from 1 to N. If any number if divisible by 5, then skip that number. And if the sum is greater than 300, don't need to calculate the sum further more. Print the final result. And don't use for loop to solve this problem.\n",
    "\n",
    "**Example 1:**\n",
    "\n",
    "`Input:`\n",
    "\n",
    "```bash\n",
    "30\n",
    "```\n",
    "\n",
    "`Output:`\n",
    "\n",
    "```bash\n",
    "276\n",
    "```"
   ]
  },
  {
   "cell_type": "code",
   "execution_count": null,
   "metadata": {
    "colab": {
     "base_uri": "https://localhost:8080/"
    },
    "executionInfo": {
     "elapsed": 5925,
     "status": "ok",
     "timestamp": 1689154924785,
     "user": {
      "displayName": "Ansyl Pinto",
      "userId": "16721353128853766479"
     },
     "user_tz": -330
    },
    "id": "GZB6mGMP3ujT",
    "outputId": "7aa475bf-d1af-4212-d301-3c3dbab944d0"
   },
   "outputs": [
    {
     "name": "stdout",
     "output_type": "stream",
     "text": [
      "enter the number50\n",
      "276\n"
     ]
    }
   ],
   "source": [
    "# Write code here\n",
    "N = int(input('enter the number '))\n",
    "sum = 0\n",
    "i = 1\n",
    "\n",
    "while i < N+1:\n",
    "  if i % 5 == 0:\n",
    "    i+=1\n",
    "    continue\n",
    "\n",
    "  sum += i\n",
    "\n",
    "  if sum > 300:\n",
    "    sum = sum - i\n",
    "    break\n",
    "\n",
    "  i+=1\n",
    "\n",
    "print(sum)\n"
   ]
  },
  {
   "cell_type": "markdown",
   "metadata": {
    "id": "Q7ggImeA3xm4"
   },
   "source": [
    "### `Problem 9`: Write a program that keeps on accepting a number from the user until the user enters Zero. Display the sum and average of all the numbers."
   ]
  },
  {
   "cell_type": "code",
   "execution_count": null,
   "metadata": {
    "colab": {
     "base_uri": "https://localhost:8080/"
    },
    "executionInfo": {
     "elapsed": 7488,
     "status": "ok",
     "timestamp": 1689154962550,
     "user": {
      "displayName": "Ansyl Pinto",
      "userId": "16721353128853766479"
     },
     "user_tz": -330
    },
    "id": "t_YDSZDe4Kdo",
    "outputId": "16b33a69-5641-484d-9347-f6519efd658a"
   },
   "outputs": [
    {
     "name": "stdout",
     "output_type": "stream",
     "text": [
      "enter number1\n",
      "enter number2\n",
      "enter number0\n",
      "sum 3\n",
      "avg 1.5\n"
     ]
    }
   ],
   "source": [
    "# Write code here\n",
    "sum = 0\n",
    "count = 0\n",
    "\n",
    "while True:\n",
    "  num = int(input('enter number '))\n",
    "  if num == 0:\n",
    "    break\n",
    "  sum = sum + num\n",
    "  count = count + 1\n",
    "\n",
    "print('sum', sum)\n",
    "print('avg', sum/count)"
   ]
  },
  {
   "cell_type": "markdown",
   "metadata": {
    "id": "6EhvEMvm4R7s"
   },
   "source": [
    "###`Problem 9`: Write a program which will find all such numbers which are divisible by 7 but are not a multiple of 5, between 2000 and 3200 (both included). The numbers obtained should be printed in a comma-separated sequence on a single line."
   ]
  },
  {
   "cell_type": "code",
   "execution_count": null,
   "metadata": {
    "colab": {
     "base_uri": "https://localhost:8080/"
    },
    "executionInfo": {
     "elapsed": 553,
     "status": "ok",
     "timestamp": 1689154997739,
     "user": {
      "displayName": "Ansyl Pinto",
      "userId": "16721353128853766479"
     },
     "user_tz": -330
    },
    "id": "d6RgP1B34T6c",
    "outputId": "39907069-beb6-4a54-fcc0-1102575a1338"
   },
   "outputs": [
    {
     "name": "stdout",
     "output_type": "stream",
     "text": [
      "2002, 2009, 2016, 2023, 2037, 2044, 2051, 2058, 2072, 2079, 2086, 2093, 2107, 2114, 2121, 2128, 2142, 2149, 2156, 2163, 2177, 2184, 2191, 2198, 2212, 2219, 2226, 2233, 2247, 2254, 2261, 2268, 2282, 2289, 2296, 2303, 2317, 2324, 2331, 2338, 2352, 2359, 2366, 2373, 2387, 2394, 2401, 2408, 2422, 2429, 2436, 2443, 2457, 2464, 2471, 2478, 2492, 2499, 2506, 2513, 2527, 2534, 2541, 2548, 2562, 2569, 2576, 2583, 2597, 2604, 2611, 2618, 2632, 2639, 2646, 2653, 2667, 2674, 2681, 2688, 2702, 2709, 2716, 2723, 2737, 2744, 2751, 2758, 2772, 2779, 2786, 2793, 2807, 2814, 2821, 2828, 2842, 2849, 2856, 2863, 2877, 2884, 2891, 2898, 2912, 2919, 2926, 2933, 2947, 2954, 2961, 2968, 2982, 2989, 2996, 3003, 3017, 3024, 3031, 3038, 3052, 3059, 3066, 3073, 3087, 3094, 3101, 3108, 3122, 3129, 3136, 3143, 3157, 3164, 3171, 3178, 3192, 3199\n"
     ]
    }
   ],
   "source": [
    "# Write code here\n",
    "L = []\n",
    "for i in range(2000, 3201):\n",
    "  if i % 7 == 0 and i % 5 != 0:\n",
    "    L.append(str(i))\n",
    "\n",
    "print(\", \".join(L))\n"
   ]
  },
  {
   "cell_type": "markdown",
   "metadata": {
    "id": "tYvmRR-G4Vp4"
   },
   "source": [
    "###`Problem 10`: Write a program, which will find all such numbers between 1000 and 3000 (both included) such that each digit of the number is an even number. The numbers obtained should be printed in a space-separated sequence on a single line.\n",
    "\n"
   ]
  },
  {
   "cell_type": "code",
   "execution_count": null,
   "metadata": {
    "colab": {
     "base_uri": "https://localhost:8080/"
    },
    "executionInfo": {
     "elapsed": 11,
     "status": "ok",
     "timestamp": 1689155039960,
     "user": {
      "displayName": "Ansyl Pinto",
      "userId": "16721353128853766479"
     },
     "user_tz": -330
    },
    "id": "k6Gs1kIf4k19",
    "outputId": "2756cef5-7b75-4a35-b4f1-2b507f71c090"
   },
   "outputs": [
    {
     "name": "stdout",
     "output_type": "stream",
     "text": [
      "2000, 2002, 2004, 2006, 2008, 2020, 2022, 2024, 2026, 2028, 2040, 2042, 2044, 2046, 2048, 2060, 2062, 2064, 2066, 2068, 2080, 2082, 2084, 2086, 2088, 2200, 2202, 2204, 2206, 2208, 2220, 2222, 2224, 2226, 2228, 2240, 2242, 2244, 2246, 2248, 2260, 2262, 2264, 2266, 2268, 2280, 2282, 2284, 2286, 2288, 2400, 2402, 2404, 2406, 2408, 2420, 2422, 2424, 2426, 2428, 2440, 2442, 2444, 2446, 2448, 2460, 2462, 2464, 2466, 2468, 2480, 2482, 2484, 2486, 2488, 2600, 2602, 2604, 2606, 2608, 2620, 2622, 2624, 2626, 2628, 2640, 2642, 2644, 2646, 2648, 2660, 2662, 2664, 2666, 2668, 2680, 2682, 2684, 2686, 2688, 2800, 2802, 2804, 2806, 2808, 2820, 2822, 2824, 2826, 2828, 2840, 2842, 2844, 2846, 2848, 2860, 2862, 2864, 2866, 2868, 2880, 2882, 2884, 2886, 2888\n"
     ]
    }
   ],
   "source": [
    "# Write code here\n",
    "L = []\n",
    "for i in range(1000, 3001):\n",
    "  flag = True\n",
    "\n",
    "  curr = i\n",
    "\n",
    "  while curr > 0:\n",
    "    last = curr%10\n",
    "    if last % 2 != 0:\n",
    "      flag = False\n",
    "      break\n",
    "    curr = curr//10\n",
    "\n",
    "  if flag == True:\n",
    "    L.append(str(i))\n",
    "\n",
    "print(\", \".join(L))"
   ]
  },
  {
   "cell_type": "markdown",
   "metadata": {
    "id": "GV18IINT4mf5"
   },
   "source": [
    "###`Problem 11`: A robot moves in a plane starting from the original point (0,0). The robot can move toward UP, DOWN, LEFT and RIGHT with a given steps.\n",
    "The trace of robot movement is shown as the following:\n",
    "```\n",
    "UP 5\n",
    "DOWN 3\n",
    "LEFT 3\n",
    "RIGHT 2\n",
    "!\n",
    "```\n",
    "> The numbers after the direction are steps.\n",
    "\n",
    "> `!` means robot stop there.\n",
    "\n",
    "**Please write a program to compute the distance from current position after a sequence of movement and original point.**\n",
    "\n",
    "*If the distance is a float, then just print the nearest integer.*\n",
    "\n",
    "Example:\n",
    "\n",
    "`Input`:\n",
    "```\n",
    "UP 5\n",
    "DOWN 3\n",
    "LEFT 3\n",
    "RIGHT 2\n",
    "!\n",
    "```\n",
    "`Output`:\n",
    "```\n",
    "2\n",
    "```"
   ]
  },
  {
   "cell_type": "code",
   "execution_count": null,
   "metadata": {
    "colab": {
     "base_uri": "https://localhost:8080/"
    },
    "executionInfo": {
     "elapsed": 18069,
     "status": "ok",
     "timestamp": 1689156803459,
     "user": {
      "displayName": "Ansyl Pinto",
      "userId": "16721353128853766479"
     },
     "user_tz": -330
    },
    "id": "6UNMC2aR4w5x",
    "outputId": "66dd4faf-9a2c-442d-e3f2-3b94cd263711"
   },
   "outputs": [
    {
     "name": "stdout",
     "output_type": "stream",
     "text": [
      "Enter the robot path U 1\n",
      "Enter the robot path !\n",
      "new pos [0, 0]\n",
      "0.0\n"
     ]
    }
   ],
   "source": [
    "# Write code here\n",
    "pos = [0,0]\n",
    "while True:\n",
    "  s = input('Enter the robot path ')\n",
    "  if s == '!':\n",
    "    break\n",
    "  direction = s.split()[0]\n",
    "  steps = int(s.split()[1])\n",
    "\n",
    "  if direction == 'UP':\n",
    "    pos[1] = pos[1] + steps\n",
    "  elif direction == 'DOWN':\n",
    "    pos[1] = pos[1] - steps\n",
    "  elif direction == 'LEFT':\n",
    "    pos[0] = pos[0] - steps\n",
    "  elif direction == 'RIGHT':\n",
    "    pos[0] = pos[0] + steps\n",
    "  else:\n",
    "    pass\n",
    "\n",
    "print('new pos',pos)\n",
    "print((pos[0]**2 + pos[1]**2)**0.5)"
   ]
  },
  {
   "cell_type": "markdown",
   "metadata": {
    "id": "3fsAIAhK5GYY"
   },
   "source": [
    "###`Problem 12`:Write a program to print whether a given number is a prime number or not"
   ]
  },
  {
   "cell_type": "code",
   "execution_count": null,
   "metadata": {
    "colab": {
     "base_uri": "https://localhost:8080/"
    },
    "executionInfo": {
     "elapsed": 4337,
     "status": "ok",
     "timestamp": 1689156863145,
     "user": {
      "displayName": "Ansyl Pinto",
      "userId": "16721353128853766479"
     },
     "user_tz": -330
    },
    "id": "j6y91lxy5LZs",
    "outputId": "1fa716a9-bd7d-449b-df73-0fcb58f48c5f"
   },
   "outputs": [
    {
     "name": "stdout",
     "output_type": "stream",
     "text": [
      "enter the num6\n",
      "Not Prime\n"
     ]
    }
   ],
   "source": [
    "# Write code here\n",
    "num = int(input('enter the num '))\n",
    "\n",
    "flag = True\n",
    "for i in range(2, num):\n",
    "  if num%i == 0:\n",
    "    flag = False\n",
    "    break\n",
    "\n",
    "if flag == True:\n",
    "  print('Prime')\n",
    "else:\n",
    "  print('Not Prime')"
   ]
  },
  {
   "cell_type": "markdown",
   "metadata": {
    "id": "asAbmbK-5NHv"
   },
   "source": [
    "###`Problem 13`:Print all the Armstrong numbers in a given range.\n",
    "Range will be provided by the user<br>\n",
    "Armstrong number is a number that is equal to the sum of cubes of its digits. For example 0, 1, 153, 370, 371 and 407 are the Armstrong numbers."
   ]
  },
  {
   "cell_type": "code",
   "execution_count": null,
   "metadata": {
    "colab": {
     "base_uri": "https://localhost:8080/"
    },
    "executionInfo": {
     "elapsed": 4964,
     "status": "ok",
     "timestamp": 1673957900984,
     "user": {
      "displayName": "CampusX Official",
      "userId": "12213120911843971958"
     },
     "user_tz": -330
    },
    "id": "PZuI67pm5jCT",
    "outputId": "d10d58d3-2bbc-4130-f53e-8f5803ad587d"
   },
   "outputs": [
    {
     "name": "stdout",
     "output_type": "stream",
     "text": [
      "Enter the start of the range: 0\n",
      "Enter the end of the range: 200\n",
      "0\n",
      "1\n",
      "2\n",
      "3\n",
      "4\n",
      "5\n",
      "6\n",
      "7\n",
      "8\n",
      "9\n",
      "153\n"
     ]
    }
   ],
   "source": [
    "# Write code here\n",
    "start = int(input(\"Enter the start of the range: \"))\n",
    "end = int(input(\"Enter the end of the range: \"))\n",
    "\n",
    "for num in range(start, end+1):\n",
    "    temp = num\n",
    "    sum = 0\n",
    "    order = len(str(num))\n",
    "    while temp > 0:\n",
    "        digit = temp % 10\n",
    "        sum += digit ** order\n",
    "        temp //= 10\n",
    "    if num == sum:\n",
    "        print(num)"
   ]
  },
  {
   "cell_type": "markdown",
   "metadata": {
    "id": "ClCQZMqT7gK0"
   },
   "source": [
    "###`Problem 14`:Calculate the angle between the hour hand and minute hand.\n",
    "\n",
    "Note: There can be two angles between hands; we need to print a minimum of two. Also, we need to print the floor of the final result angle. For example, if the final angle is 10.61, we need to print 10.\n",
    "\n",
    "Input:<br>\n",
    "H = 9 , M = 0<br>\n",
    "Output:<br>\n",
    "90<br>\n",
    "Explanation:<br>\n",
    "The minimum angle between hour and minute\n",
    "hand when the time is 9 is 90 degress."
   ]
  },
  {
   "cell_type": "code",
   "execution_count": null,
   "metadata": {
    "id": "b2Y3KLTwZ4Em"
   },
   "outputs": [],
   "source": []
  },
  {
   "cell_type": "code",
   "execution_count": null,
   "metadata": {
    "colab": {
     "base_uri": "https://localhost:8080/"
    },
    "executionInfo": {
     "elapsed": 14852,
     "status": "ok",
     "timestamp": 1689157028339,
     "user": {
      "displayName": "Ansyl Pinto",
      "userId": "16721353128853766479"
     },
     "user_tz": -330
    },
    "id": "tNBTCZML7jy_",
    "outputId": "f8bd16a1-071b-4b96-c54c-6d5e52d1ecf0"
   },
   "outputs": [
    {
     "name": "stdout",
     "output_type": "stream",
     "text": [
      "Enter hours hand- 11\n",
      "Enter minute hand- 55\n",
      "27.5\n"
     ]
    }
   ],
   "source": [
    "# Write code here\n",
    "\n",
    "# Write code here\n",
    "h = int(input('Enter hours hand- '))\n",
    "m = int(input('Enter minute hand- '))\n",
    "\n",
    "# validate the input\n",
    "if (h < 0 or m < 0 or h > 12 or m > 60):\n",
    "    print('Wrong input ')\n",
    "\n",
    "# Idea is to minute angle - hour agnle from clockwise from 12 hour point\n",
    "\n",
    "# 1 minute in minute angle manke 6 degree. (60 minute -> 360 degree)\n",
    "m_angle = m*6\n",
    "\n",
    "# every hour point yeilds to 30degree-- 12 hours-360degree plus if minute hand moves hour hands move too\n",
    "# Every minute after hour hand take 0.5 degree movement. clockwise\n",
    "h_angle = h*30 + m*0.5\n",
    "\n",
    "# Take abs difference b/w them\n",
    "angle = abs(h_angle - m_angle)\n",
    "\n",
    "\n",
    "if angle>180:\n",
    "    print(360-angle)\n",
    "else:\n",
    "    print(angle)"
   ]
  },
  {
   "cell_type": "markdown",
   "metadata": {
    "id": "tHpKy4FDqS5c"
   },
   "source": [
    "`Explaination:` This code calculates the angle between the hour and minute hand on a clock. It takes user input for the hour and minute hand positions, validates the input to make sure it is within the range of a clock (0-12 for hours and 0-60 for minutes), then calculates the angles of the hour and minute hand based on their position on the clock. It then finds the difference between the two angles and takes the absolute value of that difference. It then checks if the angle is greater than 180, if it is, it prints the difference of 360 and the angle, else it prints the angle. The final output is the angle between the hands on the clock."
   ]
  },
  {
   "cell_type": "markdown",
   "metadata": {
    "id": "GwacF9Co72Qc"
   },
   "source": [
    "###`Problem 15`:Given two rectangles, find if the given two rectangles overlap or not. A rectangle is denoted by providing the x and y coordinates of two points: the left top corner and the right bottom corner of the rectangle. Two rectangles sharing a side are considered overlapping. (L1 and R1 are the extreme points of the first rectangle and L2 and R2 are the extreme points of the second rectangle).\n",
    "\n",
    "Note: It may be assumed that the rectangles are parallel to the coordinate axis.\n",
    "\n",
    "<img src='https://www.geeksforgeeks.org/wp-content/uploads/rectanglesOverlap.png' width='300' height='200'>"
   ]
  },
  {
   "cell_type": "code",
   "execution_count": null,
   "metadata": {
    "colab": {
     "base_uri": "https://localhost:8080/"
    },
    "executionInfo": {
     "elapsed": 30477,
     "status": "ok",
     "timestamp": 1689162209351,
     "user": {
      "displayName": "Ansyl Pinto",
      "userId": "16721353128853766479"
     },
     "user_tz": -330
    },
    "id": "6rrw_lpH78Rs",
    "outputId": "3ada0a87-1168-4b61-f892-6637b09a74c1"
   },
   "outputs": [
    {
     "name": "stdout",
     "output_type": "stream",
     "text": [
      "Enter both Rectangel points coordinates <x y>\n",
      "Enter L1 coordinate value  (Two value space seperated):12 25\n",
      "Enter r1 coordinate value,(Two value space seperated):23 12\n",
      "Enter L2 coordinate value,(Two value space seperated):13 26\n",
      "Enter r2 coordinate value,(Two value space seperated):25 12\n",
      "Overlap\n"
     ]
    }
   ],
   "source": [
    "# Write code here\n",
    "print(\"Enter both Rectangel points coordinates <x y>\")\n",
    "\n",
    "l1_x, l1_y = list(map(int, input('Enter L1 coordinate value  (Two value space seperated):').split()))\n",
    "r1_x, r1_y = list(map(int, input('Enter r1 coordinate value,(Two value space seperated):').split()))\n",
    "\n",
    "l2_x, l2_y = list(map(int, input('Enter L2 coordinate value,(Two value space seperated):').split()))\n",
    "r2_x, r2_y = list(map(int, input('Enter r2 coordinate value,(Two value space seperated):').split()))\n",
    "\n",
    "# if rectangle has area 0, no overlap\n",
    "if l1_x == r1_x or l1_y == r1_y or r2_x == l2_x or l2_y == r2_y:\n",
    "  print(\"Don't Overlap\")\n",
    "\n",
    "# If one rectangle is on left side of other\n",
    "elif l1_x > r2_x or l2_x > r1_x:\n",
    "  print(\"Don't Overlap\")\n",
    "\n",
    "# If one rectangle is above other\n",
    "elif r1_y > l2_y or r2_y > l1_y:\n",
    "  print(\"Don't Overlap\")\n",
    "else:\n",
    "  print(\"Overlap\")"
   ]
  },
  {
   "cell_type": "code",
   "execution_count": null,
   "metadata": {
    "colab": {
     "base_uri": "https://localhost:8080/"
    },
    "executionInfo": {
     "elapsed": 516,
     "status": "ok",
     "timestamp": 1689162300216,
     "user": {
      "displayName": "Ansyl Pinto",
      "userId": "16721353128853766479"
     },
     "user_tz": -330
    },
    "id": "3QESQpH66eoK",
    "outputId": "4dabdcd7-89f3-491b-cba7-8719fcae3f21"
   },
   "outputs": [
    {
     "data": {
      "text/plain": [
       "[1, 2]"
      ]
     },
     "execution_count": 24,
     "metadata": {},
     "output_type": "execute_result"
    }
   ],
   "source": [
    "list(map(int, \"1 2\".split())) # map applies a function to a iterable"
   ]
  },
  {
   "cell_type": "markdown",
   "metadata": {
    "id": "LZRwjbUep7o3"
   },
   "source": [
    "`Explaination:` The given code takes the coordinates of two rectangles from the user and checks if they overlap.\n",
    "* It does this by first checking if either rectangle has an area of 0 (i.e. one of the sides has length 0), in which case it prints \"Don't Overlap\".\n",
    "* It then checks if one rectangle is entirely to the left or above the other, in which case it also prints \"Don't Overlap\". If none of these conditions are true, it prints \"Overlap\"."
   ]
  }
 ],
 "metadata": {
  "colab": {
   "provenance": [
    {
     "file_id": "1mkBnQb0IELTQCpQ9nhtEYhqOgG84DTVd",
     "timestamp": 1689149068740
    },
    {
     "file_id": "1NyILHJp8PQmpHgzCCtYM6xgAZFH7rQew",
     "timestamp": 1673957099241
    },
    {
     "file_id": "13DXTOC5mQUcVw2VAnY4xFnqIhWXfjcw2",
     "timestamp": 1668216326658
    }
   ]
  },
  "kernelspec": {
   "display_name": "Python 3 (ipykernel)",
   "language": "python",
   "name": "python3"
  },
  "language_info": {
   "codemirror_mode": {
    "name": "ipython",
    "version": 3
   },
   "file_extension": ".py",
   "mimetype": "text/x-python",
   "name": "python",
   "nbconvert_exporter": "python",
   "pygments_lexer": "ipython3",
   "version": "3.9.13"
  }
 },
 "nbformat": 4,
 "nbformat_minor": 1
}
