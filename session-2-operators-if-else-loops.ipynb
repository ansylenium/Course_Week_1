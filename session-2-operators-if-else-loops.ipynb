{
 "cells": [
  {
   "cell_type": "markdown",
   "metadata": {
    "id": "y1HMD4oI7FL7"
   },
   "source": [
    "# Operators in Python\n",
    "\n",
    "- Arithmetic Operators\n",
    "- Relational Operators\n",
    "- Logical Operators\n",
    "- Bitwise Operators\n",
    "- Assignment Operators\n",
    "- Membership Operators"
   ]
  },
  {
   "cell_type": "code",
   "execution_count": 1,
   "metadata": {
    "colab": {
     "base_uri": "https://localhost:8080/"
    },
    "executionInfo": {
     "elapsed": 6,
     "status": "ok",
     "timestamp": 1689231784523,
     "user": {
      "displayName": "Ansyl Pinto",
      "userId": "16721353128853766479"
     },
     "user_tz": -330
    },
    "id": "a7cegk-f7U4-",
    "outputId": "8539a013-d05b-4eae-dd2b-ef9a8309ea99"
   },
   "outputs": [
    {
     "name": "stdout",
     "output_type": "stream",
     "text": [
      "11\n",
      "-1\n",
      "30\n",
      "2.5\n",
      "2\n",
      "1\n",
      "25\n"
     ]
    }
   ],
   "source": [
    "# Arithmetric Operators\n",
    "print(5+6)\n",
    "\n",
    "print(5-6)\n",
    "\n",
    "print(5*6)\n",
    "\n",
    "print(5/2)\n",
    "\n",
    "print(5//2)\n",
    "\n",
    "print(5%2)\n",
    "\n",
    "print(5**2)"
   ]
  },
  {
   "cell_type": "code",
   "execution_count": 2,
   "metadata": {
    "colab": {
     "base_uri": "https://localhost:8080/"
    },
    "executionInfo": {
     "elapsed": 4,
     "status": "ok",
     "timestamp": 1689231784524,
     "user": {
      "displayName": "Ansyl Pinto",
      "userId": "16721353128853766479"
     },
     "user_tz": -330
    },
    "id": "TMIQKhFd7Y5A",
    "outputId": "83787cec-b3f9-4e05-8a29-f9e5dc3bddc2"
   },
   "outputs": [
    {
     "name": "stdout",
     "output_type": "stream",
     "text": [
      "False\n",
      "True\n",
      "True\n",
      "True\n",
      "True\n",
      "False\n"
     ]
    }
   ],
   "source": [
    "# Relational Operators\n",
    "print(4>5)\n",
    "\n",
    "print(4<5)\n",
    "\n",
    "print(4>=4)\n",
    "\n",
    "print(4<=4)\n",
    "\n",
    "print(4==4)\n",
    "\n",
    "print(4!=4)"
   ]
  },
  {
   "cell_type": "code",
   "execution_count": 3,
   "metadata": {
    "colab": {
     "base_uri": "https://localhost:8080/"
    },
    "executionInfo": {
     "elapsed": 425,
     "status": "ok",
     "timestamp": 1689137151083,
     "user": {
      "displayName": "Ansyl Pinto",
      "userId": "16721353128853766479"
     },
     "user_tz": -330
    },
    "id": "vyxdjDbc7avq",
    "outputId": "a6a0ab65-3937-4642-d2fb-f8f54fe7cc38"
   },
   "outputs": [
    {
     "name": "stdout",
     "output_type": "stream",
     "text": [
      "0\n",
      "1\n",
      "False\n"
     ]
    }
   ],
   "source": [
    "# Logical Operators\n",
    "# Logic Gates\n",
    "print(1 and 0) # will be 1 only when both are 1 in AND\n",
    "\n",
    "print(1 or 0)\n",
    "\n",
    "print(not 1)"
   ]
  },
  {
   "cell_type": "code",
   "execution_count": 4,
   "metadata": {
    "colab": {
     "base_uri": "https://localhost:8080/"
    },
    "executionInfo": {
     "elapsed": 424,
     "status": "ok",
     "timestamp": 1689231812185,
     "user": {
      "displayName": "Ansyl Pinto",
      "userId": "16721353128853766479"
     },
     "user_tz": -330
    },
    "id": "H4KzpSke7d9l",
    "outputId": "6882e216-aaee-497a-e2dd-0579474fca79"
   },
   "outputs": [
    {
     "name": "stdout",
     "output_type": "stream",
     "text": [
      "2\n",
      "3\n",
      "1\n",
      "-4\n",
      "1\n",
      "20\n"
     ]
    }
   ],
   "source": [
    "# Bitwise Operators\n",
    "# Not used much in data science\n",
    "# bitwise and\n",
    "# binary rep of 2 is 10 and 3 is 11. If we perform and we get 1 and 0 which is of 2\n",
    "print(2 & 3) # 10 and 11 is 10\n",
    "\n",
    "# bitwise or\n",
    "print(2 | 3) # 10 or 11 is 11\n",
    "\n",
    "# bitwise xor\n",
    "print(2 ^ 3) # 10 and 11 XOR 01\n",
    "\n",
    "print(~3) # 11\n",
    "\n",
    "print(4 >> 2)\n",
    "\n",
    "print(5 << 2)"
   ]
  },
  {
   "cell_type": "code",
   "execution_count": null,
   "metadata": {
    "colab": {
     "base_uri": "https://localhost:8080/"
    },
    "executionInfo": {
     "elapsed": 3,
     "status": "ok",
     "timestamp": 1689231906124,
     "user": {
      "displayName": "Ansyl Pinto",
      "userId": "16721353128853766479"
     },
     "user_tz": -330
    },
    "id": "b9loSvzGD_4n",
    "outputId": "eb0b03b5-9511-4955-d888-a031669b90b0"
   },
   "outputs": [
    {
     "data": {
      "text/plain": [
       "-12"
      ]
     },
     "execution_count": 4,
     "metadata": {},
     "output_type": "execute_result"
    }
   ],
   "source": []
  },
  {
   "cell_type": "code",
   "execution_count": 5,
   "metadata": {
    "colab": {
     "base_uri": "https://localhost:8080/"
    },
    "executionInfo": {
     "elapsed": 476,
     "status": "ok",
     "timestamp": 1689231933719,
     "user": {
      "displayName": "Ansyl Pinto",
      "userId": "16721353128853766479"
     },
     "user_tz": -330
    },
    "id": "8EEm8eHO7gD_",
    "outputId": "25237190-4ce1-46d6-8f05-f90d59798a94"
   },
   "outputs": [
    {
     "name": "stdout",
     "output_type": "stream",
     "text": [
      "0\n"
     ]
    }
   ],
   "source": [
    "# Assignment Operators\n",
    "\n",
    "# =\n",
    "# a = 2\n",
    "\n",
    "a = 2\n",
    "\n",
    "# a = a % 2\n",
    "a %= 2\n",
    "\n",
    "# a++ ++a\n",
    "\n",
    "print(a)"
   ]
  },
  {
   "cell_type": "code",
   "execution_count": 6,
   "metadata": {
    "colab": {
     "base_uri": "https://localhost:8080/"
    },
    "executionInfo": {
     "elapsed": 10,
     "status": "ok",
     "timestamp": 1689138067565,
     "user": {
      "displayName": "Ansyl Pinto",
      "userId": "16721353128853766479"
     },
     "user_tz": -330
    },
    "id": "BURkJcxzeUsN",
    "outputId": "a87f73fc-57f8-42c7-a458-fa580f9aa78d"
   },
   "outputs": [
    {
     "name": "stdout",
     "output_type": "stream",
     "text": [
      "2\n"
     ]
    }
   ],
   "source": [
    "a+=2\n",
    "print(a)"
   ]
  },
  {
   "cell_type": "code",
   "execution_count": 7,
   "metadata": {
    "colab": {
     "base_uri": "https://localhost:8080/"
    },
    "executionInfo": {
     "elapsed": 6,
     "status": "ok",
     "timestamp": 1689138097766,
     "user": {
      "displayName": "Ansyl Pinto",
      "userId": "16721353128853766479"
     },
     "user_tz": -330
    },
    "id": "LzrIz7I87h-W",
    "outputId": "b8a70558-67c2-4dff-fbbb-989a2561c835"
   },
   "outputs": [
    {
     "name": "stdout",
     "output_type": "stream",
     "text": [
      "True\n",
      "False\n"
     ]
    }
   ],
   "source": [
    "# Membership Operators\n",
    "\n",
    "# in/not in\n",
    "\n",
    "print('D' in 'Delhi')\n",
    "\n",
    "print(1 in [2,3,4,5,6])"
   ]
  },
  {
   "cell_type": "code",
   "execution_count": null,
   "metadata": {
    "colab": {
     "base_uri": "https://localhost:8080/"
    },
    "executionInfo": {
     "elapsed": 8,
     "status": "ok",
     "timestamp": 1689138294684,
     "user": {
      "displayName": "Ansyl Pinto",
      "userId": "16721353128853766479"
     },
     "user_tz": -330
    },
    "id": "_fXwd6YefNN8",
    "outputId": "6e6e210a-f3ce-4ef3-e393-0a2c78bb1b79"
   },
   "outputs": [
    {
     "data": {
      "text/plain": [
       "1"
      ]
     },
     "execution_count": 9,
     "metadata": {},
     "output_type": "execute_result"
    }
   ],
   "source": [
    "1%10"
   ]
  },
  {
   "cell_type": "code",
   "execution_count": 8,
   "metadata": {
    "colab": {
     "base_uri": "https://localhost:8080/"
    },
    "executionInfo": {
     "elapsed": 5335,
     "status": "ok",
     "timestamp": 1689138139347,
     "user": {
      "displayName": "Ansyl Pinto",
      "userId": "16721353128853766479"
     },
     "user_tz": -330
    },
    "id": "C-LoVrYGDEuB",
    "outputId": "3b400479-ae1a-47de-ffd6-224eb852b38d"
   },
   "outputs": [
    {
     "name": "stdout",
     "output_type": "stream",
     "text": [
      "Enter a 3 digit number23\n",
      "5\n"
     ]
    }
   ],
   "source": [
    "# Program - Find the sum of a 3 digit number entered by the user\n",
    "\n",
    "number = int(input('Enter a 3 digit number'))\n",
    "\n",
    "# 345%10 -> 5\n",
    "a = number%10\n",
    "\n",
    "number = number//10\n",
    "\n",
    "# 34%10 -> 4\n",
    "b = number % 10\n",
    "\n",
    "number = number//10\n",
    "# 3 % 10 -> 3\n",
    "c = number % 10\n",
    "\n",
    "print(a + b + c)"
   ]
  },
  {
   "cell_type": "code",
   "execution_count": 9,
   "metadata": {
    "colab": {
     "base_uri": "https://localhost:8080/"
    },
    "executionInfo": {
     "elapsed": 9,
     "status": "ok",
     "timestamp": 1689232184691,
     "user": {
      "displayName": "Ansyl Pinto",
      "userId": "16721353128853766479"
     },
     "user_tz": -330
    },
    "id": "2H4DI8ZuEtM6",
    "outputId": "fa52f9d4-5d10-44e4-afea-ccbaf775cd5d"
   },
   "outputs": [
    {
     "name": "stdout",
     "output_type": "stream",
     "text": [
      "15\n"
     ]
    }
   ],
   "source": [
    "input_num = 12345\n",
    "sum = 0\n",
    "while input_num > 0:\n",
    "  last = input_num%10\n",
    "  sum = sum+last\n",
    "  input_num//=10\n",
    "print(sum)"
   ]
  },
  {
   "cell_type": "markdown",
   "metadata": {
    "id": "Iq7CzVFs7mWT"
   },
   "source": [
    "# If-else in Python"
   ]
  },
  {
   "cell_type": "code",
   "execution_count": 10,
   "metadata": {
    "colab": {
     "base_uri": "https://localhost:8080/"
    },
    "executionInfo": {
     "elapsed": 10757,
     "status": "ok",
     "timestamp": 1689232200869,
     "user": {
      "displayName": "Ansyl Pinto",
      "userId": "16721353128853766479"
     },
     "user_tz": -330
    },
    "id": "dGz-83pN7oxe",
    "outputId": "847a3319-72dc-411c-a565-31330684a0f3"
   },
   "outputs": [
    {
     "name": "stdout",
     "output_type": "stream",
     "text": [
      "enter emailansyl\n",
      "enter password12\n",
      "Not correct\n"
     ]
    }
   ],
   "source": [
    "# login program and indentation\n",
    "# email -> nitish.campusx@gmail.com\n",
    "# password -> 1234\n",
    "\n",
    "email = input('enter email')\n",
    "password = input('enter password')\n",
    "\n",
    "if email == 'nitish.campusx@gmail.com' and password == '1234':\n",
    "  print('Welcome')\n",
    "elif email == 'nitish.campusx@gmail.com' and password != '1234':\n",
    "  # tell the user\n",
    "  print('Incorrect password')\n",
    "  password = input('enter password again')\n",
    "  if password == '1234':\n",
    "    print('Welcome,finally!')\n",
    "  else:\n",
    "    print('beta tumse na ho paayega!')\n",
    "else:\n",
    "  print('Not correct')"
   ]
  },
  {
   "cell_type": "code",
   "execution_count": null,
   "metadata": {
    "id": "qo_1tY2ABlAX"
   },
   "outputs": [],
   "source": [
    "# if-else examples\n",
    "# 1. Find the min of 3 given numbers\n",
    "# 2. Menu Driven Program"
   ]
  },
  {
   "cell_type": "code",
   "execution_count": 11,
   "metadata": {
    "colab": {
     "base_uri": "https://localhost:8080/"
    },
    "executionInfo": {
     "elapsed": 20036,
     "status": "ok",
     "timestamp": 1689232264476,
     "user": {
      "displayName": "Ansyl Pinto",
      "userId": "16721353128853766479"
     },
     "user_tz": -330
    },
    "id": "gQpTJbMH3W6_",
    "outputId": "c6a95cd8-b5d3-430b-d177-587b1a1ea49f"
   },
   "outputs": [
    {
     "name": "stdout",
     "output_type": "stream",
     "text": [
      "first num1\n",
      "second num2\n",
      "third num3\n",
      "smallest is 1\n"
     ]
    }
   ],
   "source": [
    "# min of 3 number\n",
    "\n",
    "a = int(input('first num'))\n",
    "b = int(input('second num'))\n",
    "c = int(input('third num'))\n",
    "\n",
    "if a<b and a<c:\n",
    "  print('smallest is',a)\n",
    "elif b<c:\n",
    "  print('smallest is',b)\n",
    "else:\n",
    "  print('smallest is',c)"
   ]
  },
  {
   "cell_type": "code",
   "execution_count": 12,
   "metadata": {
    "colab": {
     "base_uri": "https://localhost:8080/"
    },
    "executionInfo": {
     "elapsed": 3977,
     "status": "ok",
     "timestamp": 1689232268429,
     "user": {
      "displayName": "Ansyl Pinto",
      "userId": "16721353128853766479"
     },
     "user_tz": -330
    },
    "id": "hgNqlC5C4jqF",
    "outputId": "338d41b9-d08f-4f33-fc06-41e7908edfdc"
   },
   "outputs": [
    {
     "name": "stdout",
     "output_type": "stream",
     "text": [
      "\n",
      "Hi! how can I help you.\n",
      "1. Enter 1 for pin change\n",
      "2. Enter 2 for balance check\n",
      "3. Enter 3 for withdrawl\n",
      "4. Enter 4 for exit\n",
      "2\n",
      "balance\n"
     ]
    }
   ],
   "source": [
    "# menu driven calculator\n",
    "menu = input(\"\"\"\n",
    "Hi! how can I help you.\n",
    "1. Enter 1 for pin change\n",
    "2. Enter 2 for balance check\n",
    "3. Enter 3 for withdrawl\n",
    "4. Enter 4 for exit\n",
    "\"\"\")\n",
    "\n",
    "if menu == '1':\n",
    "  print('pin change')\n",
    "elif menu == '2':\n",
    "  print('balance')\n",
    "else:\n",
    "  print('exit')"
   ]
  },
  {
   "cell_type": "markdown",
   "metadata": {
    "id": "532_6mva8A6C"
   },
   "source": [
    "# Modules in Python\n",
    "\n",
    "- math\n",
    "- keywords\n",
    "- random\n",
    "- datetime"
   ]
  },
  {
   "cell_type": "code",
   "execution_count": 13,
   "metadata": {
    "colab": {
     "base_uri": "https://localhost:8080/"
    },
    "executionInfo": {
     "elapsed": 2,
     "status": "ok",
     "timestamp": 1689232312711,
     "user": {
      "displayName": "Ansyl Pinto",
      "userId": "16721353128853766479"
     },
     "user_tz": -330
    },
    "id": "x5VXt7wv8G4o",
    "outputId": "13297266-26c5-4749-e2de-033a668c449f"
   },
   "outputs": [
    {
     "data": {
      "text/plain": [
       "14.0"
      ]
     },
     "execution_count": 13,
     "metadata": {},
     "output_type": "execute_result"
    }
   ],
   "source": [
    "# Modules are files where code is already written. We can just input those modules and use them\n",
    "# math\n",
    "import math\n",
    "\n",
    "math.sqrt(196)\n"
   ]
  },
  {
   "cell_type": "code",
   "execution_count": 14,
   "metadata": {
    "colab": {
     "base_uri": "https://localhost:8080/"
    },
    "executionInfo": {
     "elapsed": 2,
     "status": "ok",
     "timestamp": 1689232313404,
     "user": {
      "displayName": "Ansyl Pinto",
      "userId": "16721353128853766479"
     },
     "user_tz": -330
    },
    "id": "NBAJj9zkg62n",
    "outputId": "26af2041-c4a3-4954-b3d5-f2ba22cbdf10"
   },
   "outputs": [
    {
     "data": {
      "text/plain": [
       "24"
      ]
     },
     "execution_count": 14,
     "metadata": {},
     "output_type": "execute_result"
    }
   ],
   "source": [
    "math.factorial(4)"
   ]
  },
  {
   "cell_type": "code",
   "execution_count": 15,
   "metadata": {
    "colab": {
     "base_uri": "https://localhost:8080/"
    },
    "executionInfo": {
     "elapsed": 509,
     "status": "ok",
     "timestamp": 1689232318381,
     "user": {
      "displayName": "Ansyl Pinto",
      "userId": "16721353128853766479"
     },
     "user_tz": -330
    },
    "id": "FLgAX9pz8HBT",
    "outputId": "cdd4b7be-5752-4d34-c7cc-b2b41f7a115a"
   },
   "outputs": [
    {
     "name": "stdout",
     "output_type": "stream",
     "text": [
      "['False', 'None', 'True', '__peg_parser__', 'and', 'as', 'assert', 'async', 'await', 'break', 'class', 'continue', 'def', 'del', 'elif', 'else', 'except', 'finally', 'for', 'from', 'global', 'if', 'import', 'in', 'is', 'lambda', 'nonlocal', 'not', 'or', 'pass', 'raise', 'return', 'try', 'while', 'with', 'yield']\n"
     ]
    }
   ],
   "source": [
    "# keyword\n",
    "import keyword\n",
    "print(keyword.kwlist)"
   ]
  },
  {
   "cell_type": "code",
   "execution_count": 16,
   "metadata": {
    "colab": {
     "base_uri": "https://localhost:8080/"
    },
    "executionInfo": {
     "elapsed": 407,
     "status": "ok",
     "timestamp": 1689232348899,
     "user": {
      "displayName": "Ansyl Pinto",
      "userId": "16721353128853766479"
     },
     "user_tz": -330
    },
    "id": "R0dWpe-w8HSZ",
    "outputId": "3ed04b16-2ba1-4e48-e803-59eea2b40bd9"
   },
   "outputs": [
    {
     "name": "stdout",
     "output_type": "stream",
     "text": [
      "17\n"
     ]
    }
   ],
   "source": [
    "# random\n",
    "import random\n",
    "print(random.randint(1,100))"
   ]
  },
  {
   "cell_type": "code",
   "execution_count": 17,
   "metadata": {
    "colab": {
     "base_uri": "https://localhost:8080/"
    },
    "executionInfo": {
     "elapsed": 3,
     "status": "ok",
     "timestamp": 1689232351554,
     "user": {
      "displayName": "Ansyl Pinto",
      "userId": "16721353128853766479"
     },
     "user_tz": -330
    },
    "id": "XNHWXsM0iFn3",
    "outputId": "09cfdc1a-7bf9-49b6-dfe4-34f7a3b25bee"
   },
   "outputs": [
    {
     "name": "stdout",
     "output_type": "stream",
     "text": [
      "2023-07-31 07:39:19.241881\n"
     ]
    }
   ],
   "source": [
    "# datetime\n",
    "import datetime\n",
    "print(datetime.datetime.now())"
   ]
  },
  {
   "cell_type": "code",
   "execution_count": null,
   "metadata": {
    "colab": {
     "base_uri": "https://localhost:8080/"
    },
    "executionInfo": {
     "elapsed": 99421,
     "status": "ok",
     "timestamp": 1689232453582,
     "user": {
      "displayName": "Ansyl Pinto",
      "userId": "16721353128853766479"
     },
     "user_tz": -330
    },
    "id": "ePMxrlzX8CsQ",
    "outputId": "900d78a3-4f61-4394-c507-77b4c7971783"
   },
   "outputs": [
    {
     "name": "stdout",
     "output_type": "stream",
     "text": [
      "\n",
      "Please wait a moment while I gather a list of all available modules...\n",
      "\n"
     ]
    },
    {
     "name": "stderr",
     "output_type": "stream",
     "text": [
      "/usr/local/lib/python3.10/dist-packages/IPython/kernel/__init__.py:12: ShimWarning: The `IPython.kernel` package has been deprecated since IPython 4.0.You should import from ipykernel or jupyter_client instead.\n",
      "  warn(\"The `IPython.kernel` package has been deprecated since IPython 4.0.\"\n",
      "/usr/local/lib/python3.10/dist-packages/altair/vega/v5/__init__.py:18: AltairDeprecationWarning: The module altair.vega.v5 is deprecated and will be removed in Altair 5.\n",
      "  warnings.warn(\n",
      "/usr/local/lib/python3.10/dist-packages/altair/vegalite/v3/__init__.py:29: AltairDeprecationWarning: The module altair.vegalite.v3 is deprecated and will be removed in Altair 5. Use `import altair as alt` instead of `import altair.vegalite.v3 as alt`.\n",
      "  warnings.warn(\n",
      "/usr/local/lib/python3.10/dist-packages/jupyter_client/ssh/tunnel.py:57: DeprecationWarning:\n",
      "\n",
      "zmq.utils.strtypes is deprecated in pyzmq 23.\n",
      "\n",
      "/usr/local/lib/python3.10/dist-packages/llvmlite/llvmpy/__init__.py:3: UserWarning:\n",
      "\n",
      "The module `llvmlite.llvmpy` is deprecated and will be removed in the future.\n",
      "\n"
     ]
    },
    {
     "name": "stdout",
     "output_type": "stream",
     "text": [
      "Downloading http://dlib.net/files/shape_predictor_68_face_landmarks.dat.bz2 to /root/mlxtend_data/shape_predictor_68_face_landmarks.dat.bz2\n"
     ]
    },
    {
     "name": "stderr",
     "output_type": "stream",
     "text": [
      "/usr/local/lib/python3.10/dist-packages/moviepy/video/fx/painting.py:7: DeprecationWarning:\n",
      "\n",
      "Please use `sobel` from the `scipy.ndimage` namespace, the `scipy.ndimage.filters` namespace is deprecated.\n",
      "\n",
      "/usr/local/lib/python3.10/dist-packages/nibabel/pkg_info.py:73: DeprecationWarning:\n",
      "\n",
      "distutils Version classes are deprecated. Use packaging.version instead.\n",
      "\n",
      "/usr/local/lib/python3.10/dist-packages/nibabel/quaternions.py:31: DeprecationWarning:\n",
      "\n",
      "`np.float` is a deprecated alias for the builtin `float`. To silence this warning, use `float` by itself. Doing this will not modify any behavior and is safe. If you specifically wanted the numpy scalar type, use `np.float64` here.\n",
      "Deprecated in NumPy 1.20; for more details and guidance: https://numpy.org/devdocs/release/1.20.0-notes.html#deprecations\n",
      "\n",
      "/usr/lib/python3.10/pkgutil.py:92: UserWarning:\n",
      "\n",
      "The DICOM readers are highly experimental, unstable, and only work for Siemens time-series at the moment\n",
      "Please use with caution.  We would be grateful for your help in improving them\n",
      "\n",
      "/usr/local/lib/python3.10/dist-packages/matplotlib_inline/config.py:68: DeprecationWarning:\n",
      "\n",
      "InlineBackend._figure_format_changed is deprecated in traitlets 4.1: use @observe and @unobserve instead.\n",
      "\n",
      "/usr/local/lib/python3.10/dist-packages/nltk/twitter/__init__.py:20: UserWarning:\n",
      "\n",
      "The twython library has not been installed. Some functionality from the twitter package will not be available.\n",
      "\n",
      "/usr/local/lib/python3.10/dist-packages/notebook/utils.py:280: DeprecationWarning:\n",
      "\n",
      "distutils Version classes are deprecated. Use packaging.version instead.\n",
      "\n",
      "/usr/local/lib/python3.10/dist-packages/setuptools/_distutils/msvccompiler.py:66: DeprecationWarning:\n",
      "\n",
      "msvccompiler is deprecated and slated to be removed in the future. Please discontinue use or file an issue with pypa/distutils describing your use case.\n",
      "\n",
      "/usr/lib/python3.10/pkgutil.py:92: UserWarning:\n",
      "\n",
      "The numpy.array_api submodule is still experimental. See NEP 47.\n",
      "\n",
      "/usr/local/lib/python3.10/dist-packages/pandas_datareader/compat/__init__.py:11: DeprecationWarning:\n",
      "\n",
      "distutils Version classes are deprecated. Use packaging.version instead.\n",
      "\n",
      "/usr/local/lib/python3.10/dist-packages/pip/_vendor/pkg_resources/__init__.py:121: DeprecationWarning:\n",
      "\n",
      "pkg_resources is deprecated as an API\n",
      "\n",
      "/usr/local/lib/python3.10/dist-packages/pip/_vendor/pkg_resources/__init__.py:2870: DeprecationWarning:\n",
      "\n",
      "Deprecated call to `pkg_resources.declare_namespace('google')`.\n",
      "Implementing implicit namespace packages (as specified in PEP 420) is preferred to `pkg_resources.declare_namespace`. See https://setuptools.pypa.io/en/latest/references/keywords.html#keyword-namespace-packages\n",
      "\n",
      "/usr/local/lib/python3.10/dist-packages/pip/_vendor/pkg_resources/__init__.py:2870: DeprecationWarning:\n",
      "\n",
      "Deprecated call to `pkg_resources.declare_namespace('google.cloud')`.\n",
      "Implementing implicit namespace packages (as specified in PEP 420) is preferred to `pkg_resources.declare_namespace`. See https://setuptools.pypa.io/en/latest/references/keywords.html#keyword-namespace-packages\n",
      "\n",
      "/usr/local/lib/python3.10/dist-packages/pip/_vendor/pkg_resources/__init__.py:2870: DeprecationWarning:\n",
      "\n",
      "Deprecated call to `pkg_resources.declare_namespace('google.logging')`.\n",
      "Implementing implicit namespace packages (as specified in PEP 420) is preferred to `pkg_resources.declare_namespace`. See https://setuptools.pypa.io/en/latest/references/keywords.html#keyword-namespace-packages\n",
      "\n",
      "/usr/local/lib/python3.10/dist-packages/pip/_vendor/pkg_resources/__init__.py:2870: DeprecationWarning:\n",
      "\n",
      "Deprecated call to `pkg_resources.declare_namespace('google.iam')`.\n",
      "Implementing implicit namespace packages (as specified in PEP 420) is preferred to `pkg_resources.declare_namespace`. See https://setuptools.pypa.io/en/latest/references/keywords.html#keyword-namespace-packages\n",
      "\n",
      "/usr/local/lib/python3.10/dist-packages/pip/_vendor/pkg_resources/__init__.py:2870: DeprecationWarning:\n",
      "\n",
      "Deprecated call to `pkg_resources.declare_namespace('mpl_toolkits')`.\n",
      "Implementing implicit namespace packages (as specified in PEP 420) is preferred to `pkg_resources.declare_namespace`. See https://setuptools.pypa.io/en/latest/references/keywords.html#keyword-namespace-packages\n",
      "\n",
      "/usr/local/lib/python3.10/dist-packages/pip/_vendor/pkg_resources/__init__.py:2870: DeprecationWarning:\n",
      "\n",
      "Deprecated call to `pkg_resources.declare_namespace('sphinxcontrib')`.\n",
      "Implementing implicit namespace packages (as specified in PEP 420) is preferred to `pkg_resources.declare_namespace`. See https://setuptools.pypa.io/en/latest/references/keywords.html#keyword-namespace-packages\n",
      "\n",
      "/usr/lib/python3.10/pkgutil.py:92: UserWarning: viewer requires Qt\n",
      "/usr/local/lib/python3.10/dist-packages/sphinx/util/docutils.py:15: DeprecationWarning: The distutils package is deprecated and slated for removal in Python 3.12. Use setuptools or check PEP 632 for potential alternatives\n",
      "/usr/local/lib/python3.10/dist-packages/tensorboard/_vendor/html5lib/filters/sanitizer.py:29: DeprecationWarning: html5lib's sanitizer is deprecated; see https://github.com/html5lib/html5lib-python/issues/443 and please let us know if Bleach is unsuitable for your needs\n",
      "/usr/local/lib/python3.10/dist-packages/torch/distributed/_shard/checkpoint/__init__.py:8: DeprecationWarning: torch.distributed._shard.checkpoint will be deprecated, use torch.distributed.checkpoint instead\n",
      "/usr/local/lib/python3.10/dist-packages/torch/distributed/_sharded_tensor/__init__.py:8: DeprecationWarning: torch.distributed._sharded_tensor will be deprecated, use torch.distributed._shard.sharded_tensor instead\n",
      "/usr/local/lib/python3.10/dist-packages/torch/distributed/_sharding_spec/__init__.py:8: DeprecationWarning: torch.distributed._sharding_spec will be deprecated, use torch.distributed._shard.sharding_spec instead\n",
      "No CUDA runtime is found, using CUDA_HOME='/usr/local/cuda'\n",
      "/usr/local/lib/python3.10/dist-packages/torchvision/datapoints/__init__.py:12: UserWarning: The torchvision.datapoints and torchvision.transforms.v2 namespaces are still Beta. While we do not expect major breaking changes, some APIs may still change according to user feedback. Please submit any feedback you may have in this issue: https://github.com/pytorch/vision/issues/6753, and you can also check out https://github.com/pytorch/vision/issues/7319 to learn more about the APIs that we suspect might involve future changes. You can silence this warning by calling torchvision.disable_beta_transforms_warning().\n",
      "/usr/local/lib/python3.10/dist-packages/torchvision/transforms/v2/__init__.py:54: UserWarning: The torchvision.datapoints and torchvision.transforms.v2 namespaces are still Beta. While we do not expect major breaking changes, some APIs may still change according to user feedback. Please submit any feedback you may have in this issue: https://github.com/pytorch/vision/issues/6753, and you can also check out https://github.com/pytorch/vision/issues/7319 to learn more about the APIs that we suspect might involve future changes. You can silence this warning by calling torchvision.disable_beta_transforms_warning().\n",
      "/usr/lib/python3.10/pkgutil.py:107: VisibleDeprecationWarning: zmq.eventloop.minitornado is deprecated in pyzmq 14.0 and will be removed.\n",
      "    Install tornado itself to use zmq with the tornado IOLoop.\n",
      "    \n"
     ]
    },
    {
     "name": "stdout",
     "output_type": "stream",
     "text": [
      "Cython              codecs              keyword             requirements\n",
      "IPython             codeop              kiwisolver          resource\n",
      "OpenGL              collections         langcodes           rich\n",
      "PIL                 colorcet            lazy_loader         rlcompleter\n",
      "__future__          colorlover          lib2to3             rmagic\n",
      "_abc                colorsys            libfuturize         rpy2\n",
      "_aix_support        community           libpasteurize       rsa\n",
      "_argon2_cffi_bindings compileall          librosa             runpy\n",
      "_ast                concurrent          lightgbm            sched\n",
      "_asyncio            confection          linecache           scipy\n",
      "_bisect             configparser        lit                 scs\n",
      "_blake2             cons                llvmlite            seaborn\n",
      "_bootsubprocess     contextlib          locale              secrets\n",
      "_bz2                contextlib2         locket              select\n",
      "_cffi_backend       contextvars         logging             selectors\n",
      "_codecs             contourpy           lsb_release         send2trash\n",
      "_codecs_cn          convertdate         lunarcalendar       setuptools\n",
      "_codecs_hk          copy                lxml                shapely\n",
      "_codecs_iso2022     copyreg             lzma                shelve\n",
      "_codecs_jp          cpuinfo             mailbox             shlex\n",
      "_codecs_kr          crypt               mailcap             shutil\n",
      "_codecs_tw          csv                 markdown            signal\n",
      "_collections        ctypes              markdown_it         site\n",
      "_collections_abc    cufflinks           markupsafe          sitecustomize\n",
      "_compat_pickle      curses              marshal             six\n",
      "_compression        cv2                 math                skimage\n",
      "_contextvars        cvxopt              matplotlib          sklearn\n",
      "_crypt              cvxpy               matplotlib_inline   sklearn_pandas\n",
      "_csv                cycler              matplotlib_venn     slugify\n",
      "_ctypes             cymem               mdurl               smart_open\n",
      "_ctypes_test        cython              mimetypes           smtpd\n",
      "_curses             cythonmagic         missingno           smtplib\n",
      "_curses_panel       dask                mistune             sndhdr\n",
      "_cvxcore            dataclasses         mizani              sniffio\n",
      "_datetime           datascience         ml_dtypes           snowballstemmer\n",
      "_dbm                datetime            mlxtend             socket\n",
      "_decimal            dateutil            mmap                socketserver\n",
      "_distutils_hack     db_dtypes           modulefinder        socks\n",
      "_dlib_pybind11      dbm                 more_itertools      sockshandler\n",
      "_ecos               dbus                moviepy             softwareproperties\n",
      "_elementtree        debugpy             mpmath              sortedcontainers\n",
      "_functools          decimal             msgpack             soundfile\n",
      "_hashlib            decorator           multidict           soupsieve\n",
      "_heapq              defusedxml          multipledispatch    soxr\n",
      "_imp                difflib             multiprocessing     spacy\n",
      "_io                 dis                 multitasking        spacy_legacy\n",
      "_json               distributed         murmurhash          spacy_loggers\n",
      "_locale             distutils           music21             sphinx\n",
      "_lsprof             dlib                natsort             spwd\n",
      "_lzma               doctest             nbclient            sql\n",
      "_markupbase         docutils            nbconvert           sqlalchemy\n",
      "_md5                dopamine            nbformat            sqlite3\n",
      "_multibytecodec     dot_parser          nest_asyncio        sqlparse\n",
      "_multiprocessing    duckdb              netrc               sre_compile\n",
      "_opcode             easydict            networkx            sre_constants\n",
      "_operator           ecos                nibabel             sre_parse\n",
      "_osx_support        editdistance        nis                 srsly\n",
      "_pickle             ee                  nisext              ssl\n",
      "_plotly_future_     email               nltk                stat\n",
      "_plotly_utils       en_core_web_sm      nntplib             statistics\n",
      "_posixshmem         encodings           notebook            statsmodels\n",
      "_posixsubprocess    entrypoints         ntpath              storemagic\n",
      "_py_abc             enum                nturl2path          string\n",
      "_pydecimal          ephem               numba               stringprep\n",
      "_pyio               erfa                numbergen           struct\n",
      "_pyrsistent_version errno               numbers             subprocess\n",
      "_pytest             et_xmlfile          numexpr             sunau\n",
      "_queue              etils               numpy               sympy\n",
      "_random             etuples             nvfuser             sympyprinting\n",
      "_rinterface_cffi_abi exceptiongroup      oauth2client        symtable\n",
      "_rinterface_cffi_api fastai              oauthlib            sys\n",
      "_scs_direct         fastcore            opcode              sysconfig\n",
      "_scs_indirect       fastdownload        openpyxl            syslog\n",
      "_sha1               fastjsonschema      operator            tables\n",
      "_sha256             fastprogress        opt_einsum          tabnanny\n",
      "_sha3               fastrlock           optax               tabulate\n",
      "_sha512             faulthandler        optparse            tarfile\n",
      "_signal             fcntl               os                  tblib\n",
      "_sitebuiltins       filecmp             osgeo               telnetlib\n",
      "_socket             fileinput           osgeo_utils         tempfile\n",
      "_soundfile          filelock            osqp                tenacity\n",
      "_soundfile_data     fiona               osqppurepy          tensorboard\n",
      "_sqlite3            firebase_admin      ossaudiodev         tensorboard_data_server\n",
      "_sre                flask               packaging           tensorflow\n",
      "_ssl                flatbuffers         palettable          tensorflow_datasets\n",
      "_stat               flax                pandas              tensorflow_estimator\n",
      "_statistics         fnmatch             pandas_datareader   tensorflow_gcs_config\n",
      "_string             folium              pandas_gbq          tensorflow_hub\n",
      "_strptime           fontTools           pandocfilters       tensorflow_io_gcs_filesystem\n",
      "_struct             fractions           panel               tensorflow_metadata\n",
      "_symtable           frozendict          param               tensorflow_probability\n",
      "_sysconfigdata__linux_x86_64-linux-gnu frozenlist          parso               tensorstore\n",
      "_sysconfigdata__x86_64-linux-gnu fsspec              partd               termcolor\n",
      "_testbuffer         ftplib              past                terminado\n",
      "_testcapi           functools           pasta               termios\n",
      "_testclinic         functorch           pathlib             test\n",
      "_testimportmultiple future              pathy               tests\n",
      "_testinternalcapi   gast                patsy               text_unidecode\n",
      "_testmultiphase     gc                  pdb                 textblob\n",
      "_thread             gcsfs               pexpect             textwrap\n",
      "_threading_local    gdown               pickle              tf_slim\n",
      "_tkinter            genericpath         pickleshare         thinc\n",
      "_tracemalloc        gensim              pickletools         this\n",
      "_uuid               geographiclib       pip                 threading\n",
      "_warnings           geopandas           pipes               threadpoolctl\n",
      "_weakref            geopy               piptools            tifffile\n",
      "_weakrefset         getopt              pkg_resources       time\n",
      "_xxsubinterpreters  getpass             pkgutil             timeit\n",
      "_xxtestfuzz         gettext             platform            tinycss2\n",
      "_yaml               gi                  platformdirs        tkinter\n",
      "_zoneinfo           gin                 plistlib            tlz\n",
      "abc                 glob                plotly              token\n",
      "absl                glob2               plotnine            tokenize\n",
      "aifc                google_auth_httplib2 pluggy              toml\n",
      "aiohttp             google_auth_oauthlib polars              tomli\n",
      "aiosignal           google_crc32c       pooch               toolz\n",
      "alabaster           google_drive_downloader poplib              torch\n",
      "albumentations      googleapiclient     portpicker          torchaudio\n",
      "altair              googlesearch        posix               torchdata\n",
      "antigravity         graphlib            posixpath           torchgen\n",
      "anyio               graphviz            pprint              torchsummary\n",
      "apiclient           greenlet            prefetch_generator  torchtext\n",
      "appdirs             grp                 preshed             torchvision\n",
      "apt                 grpc                prettytable         tornado\n",
      "apt_inst            grpc_status         profile             tqdm\n",
      "apt_pkg             gspread             proglog             trace\n",
      "aptsources          gspread_dataframe   progressbar         traceback\n",
      "argon2              gym                 prometheus_client   tracemalloc\n",
      "argparse            gym_notices         promise             traitlets\n",
      "array               gzip                prompt_toolkit      tree\n",
      "array_record        h5netcdf            prophet             triton\n",
      "arviz               h5py                proto               tty\n",
      "ast                 hashlib             pstats              turtle\n",
      "astropy             heapq               psutil              tweepy\n",
      "astunparse          hmac                psycopg2            typer\n",
      "async_timeout       holidays            pty                 types\n",
      "asynchat            holoviews           ptyprocess          typing\n",
      "asyncio             html                pwd                 typing_extensions\n",
      "asyncore            html5lib            py                  tzlocal\n",
      "atexit              http                py4j                unicodedata\n",
      "attr                httpimport          py_compile          unification\n",
      "attrs               httplib2            pyarrow             unittest\n",
      "audioop             humanize            pyasn1              uritemplate\n",
      "audioread           hyperopt            pyasn1_modules      urllib\n",
      "autograd            idna                pyclbr              urllib3\n",
      "autoreload          imageio             pycocotools         uu\n",
      "babel               imageio_ffmpeg      pycparser           uuid\n",
      "backcall            imagesize           pyct                vega_datasets\n",
      "base64              imaplib             pydantic            venv\n",
      "bdb                 imblearn            pydata_google_auth  warnings\n",
      "bin                 imgaug              pydoc               wasabi\n",
      "binascii            imghdr              pydoc_data          wave\n",
      "binhex              imp                 pydot               wcwidth\n",
      "bisect              importlib           pydot_ng            weakref\n",
      "bleach              importlib_resources pydotplus           webbrowser\n",
      "blis                imutils             pydrive             webcolors\n",
      "blosc2              inflect             pyexpat             webencodings\n",
      "bokeh               iniconfig           pygame              websocket\n",
      "boost               inspect             pygments            werkzeug\n",
      "branca              io                  pygtkcompat         wheel\n",
      "bs4                 ipaddress           pylab               widgetsnbextension\n",
      "build               ipykernel           pymc                wordcloud\n",
      "builtins            ipykernel_launcher  pymeeus             wrapt\n",
      "bz2                 ipython_genutils    pymystem3           wsgiref\n",
      "cProfile            ipywidgets          pyparsing           xarray\n",
      "cachecontrol        isympy              pyproj              xarray_einstats\n",
      "cachetools          itertools           pyproject_hooks     xdrlib\n",
      "calendar            itsdangerous        pyrsistent          xgboost\n",
      "catalogue           jax                 pytensor            xlrd\n",
      "certifi             jaxlib              pytest              xml\n",
      "cffi                jieba               python_utils        xmlrpc\n",
      "cgi                 jinja2              pytz                xxlimited\n",
      "cgitb               joblib              pyviz_comms         xxlimited_35\n",
      "chardet             json                pywt                xxsubtype\n",
      "charset_normalizer  jsonpickle          pyximport           yaml\n",
      "chex                jsonschema          qdldl               yarl\n",
      "chunk               jupyter             qudida              yellowbrick\n",
      "clang               jupyter_client      queue               yfinance\n",
      "click               jupyter_console     quopri              zict\n",
      "click_plugins       jupyter_core        random              zipapp\n",
      "cligj               jupyter_server      re                  zipfile\n",
      "cloudpickle         jupyterlab_plotly   readline            zipimport\n",
      "cmake               jupyterlab_pygments regex               zipp\n",
      "cmath               jupyterlab_widgets  reprlib             zlib\n",
      "cmd                 kaggle              requests            zmq\n",
      "cmdstanpy           kanren              requests_oauthlib   zoneinfo\n",
      "code                keras               requests_unixsocket \n",
      "\n",
      "Enter any module name to get more help.  Or, type \"modules spam\" to search\n",
      "for modules whose name or summary contain the string \"spam\".\n",
      "\n"
     ]
    }
   ],
   "source": [
    "help('modules')"
   ]
  },
  {
   "cell_type": "markdown",
   "metadata": {
    "id": "2Ow6_gWG7ukc"
   },
   "source": [
    "# Loops in Python\n",
    "\n",
    "- Need for loops\n",
    "- While Loop\n",
    "- For Loop"
   ]
  },
  {
   "cell_type": "code",
   "execution_count": null,
   "metadata": {
    "id": "Ig7NIb7L7txg"
   },
   "outputs": [],
   "source": [
    "# While loop example -> program to print the table\n",
    "# Program -> Sum of all digits of a given number\n",
    "# Program -> keep accepting numbers from users till he/she enters a 0 and then find the avg"
   ]
  },
  {
   "cell_type": "code",
   "execution_count": 18,
   "metadata": {
    "colab": {
     "base_uri": "https://localhost:8080/"
    },
    "executionInfo": {
     "elapsed": 3724,
     "status": "ok",
     "timestamp": 1689232457302,
     "user": {
      "displayName": "Ansyl Pinto",
      "userId": "16721353128853766479"
     },
     "user_tz": -330
    },
    "id": "brWSxgiu9rrQ",
    "outputId": "23ed407c-bfb9-4a57-a4c7-5a258a7079b2"
   },
   "outputs": [
    {
     "name": "stdout",
     "output_type": "stream",
     "text": [
      "enter the number2\n",
      "2 * 1 = 2\n",
      "2 * 2 = 4\n",
      "2 * 3 = 6\n",
      "2 * 4 = 8\n",
      "2 * 5 = 10\n",
      "2 * 6 = 12\n",
      "2 * 7 = 14\n",
      "2 * 8 = 16\n",
      "2 * 9 = 18\n",
      "2 * 10 = 20\n"
     ]
    }
   ],
   "source": [
    "number = int(input('enter the number'))\n",
    "\n",
    "i = 1\n",
    "\n",
    "while i<11:\n",
    "  print(number,'*',i,'=',number * i)\n",
    "  i += 1"
   ]
  },
  {
   "cell_type": "code",
   "execution_count": 1,
   "metadata": {
    "colab": {
     "base_uri": "https://localhost:8080/"
    },
    "executionInfo": {
     "elapsed": 3,
     "status": "ok",
     "timestamp": 1690386815052,
     "user": {
      "displayName": "Ansyl Pinto",
      "userId": "16721353128853766479"
     },
     "user_tz": -330
    },
    "id": "Ltsr9n3H73fp",
    "outputId": "4b236234-9786-4e1b-b6c6-7090cc27d2f2"
   },
   "outputs": [
    {
     "name": "stdout",
     "output_type": "stream",
     "text": [
      "1\n",
      "2\n",
      "3\n",
      "4\n",
      "limit crossed\n"
     ]
    }
   ],
   "source": [
    "# while loop with else\n",
    "\n",
    "x = 1\n",
    "\n",
    "while x < 5:\n",
    "  print(x)\n",
    "  x += 1\n",
    "\n",
    "else:\n",
    "  print('limit crossed')"
   ]
  },
  {
   "cell_type": "code",
   "execution_count": null,
   "metadata": {
    "id": "3FJitZmo54Tn"
   },
   "outputs": [],
   "source": []
  },
  {
   "cell_type": "code",
   "execution_count": 20,
   "metadata": {
    "colab": {
     "base_uri": "https://localhost:8080/"
    },
    "executionInfo": {
     "elapsed": 30172,
     "status": "ok",
     "timestamp": 1689232772493,
     "user": {
      "displayName": "Ansyl Pinto",
      "userId": "16721353128853766479"
     },
     "user_tz": -330
    },
    "id": "29y5r2cr8MRP",
    "outputId": "8bd03536-88ed-4afc-bdb9-ba2e26912ccb"
   },
   "outputs": [
    {
     "name": "stdout",
     "output_type": "stream",
     "text": [
      "guess karo45\n",
      "galat!guess lower\n",
      "guess karo23\n",
      "galat!guess higher\n",
      "guess karo35\n",
      "galat!guess higher\n",
      "guess karo40\n",
      "galat!guess higher\n",
      "guess karo41\n",
      "galat!guess higher\n",
      "guess karo42\n",
      "galat!guess higher\n",
      "guess karo43\n",
      "correct guess\n",
      "attempts 7\n"
     ]
    }
   ],
   "source": [
    "# Guessing game\n",
    "\n",
    "# generate a random integer between 1 and 100\n",
    "import random\n",
    "jackpot = random.randint(1,100)\n",
    "\n",
    "guess = int(input('guess karo'))\n",
    "counter = 1\n",
    "while guess != jackpot:\n",
    "  if guess < jackpot:\n",
    "    print('galat!guess higher')\n",
    "  else:\n",
    "    print('galat!guess lower')\n",
    "\n",
    "  guess = int(input('guess karo'))\n",
    "  counter += 1\n",
    "\n",
    "else:\n",
    "  print('correct guess')\n",
    "  print('attempts',counter)\n",
    "\n",
    "\n"
   ]
  },
  {
   "cell_type": "code",
   "execution_count": null,
   "metadata": {
    "id": "FvI-sok06FGs"
   },
   "outputs": [],
   "source": []
  },
  {
   "cell_type": "code",
   "execution_count": 22,
   "metadata": {
    "colab": {
     "base_uri": "https://localhost:8080/"
    },
    "executionInfo": {
     "elapsed": 425,
     "status": "ok",
     "timestamp": 1689232828429,
     "user": {
      "displayName": "Ansyl Pinto",
      "userId": "16721353128853766479"
     },
     "user_tz": -330
    },
    "id": "bjjx0fMr8SWh",
    "outputId": "9604b048-ac7e-480f-9092-30c5b5cfd0b7"
   },
   "outputs": [
    {
     "name": "stdout",
     "output_type": "stream",
     "text": [
      "1\n",
      "2\n",
      "3\n",
      "4\n",
      "5\n"
     ]
    }
   ],
   "source": [
    "# For loop demo\n",
    "\n",
    "for i in {1,2,3,4,5}: # we can iterate on strings, tuples, list, df\n",
    "  print(i)"
   ]
  },
  {
   "cell_type": "code",
   "execution_count": null,
   "metadata": {
    "id": "5ZLWEyFn8g1R"
   },
   "outputs": [],
   "source": [
    "# For loop examples"
   ]
  },
  {
   "cell_type": "markdown",
   "metadata": {
    "id": "EXnzCtohWx2V"
   },
   "source": [
    "### Program - The current population of a town is 10000. The population of the town is increasing at the rate of 10% per year. You have to write a program to find out the population at the end of each of the last 10 years."
   ]
  },
  {
   "cell_type": "code",
   "execution_count": 24,
   "metadata": {
    "colab": {
     "base_uri": "https://localhost:8080/"
    },
    "executionInfo": {
     "elapsed": 2,
     "status": "ok",
     "timestamp": 1689232861848,
     "user": {
      "displayName": "Ansyl Pinto",
      "userId": "16721353128853766479"
     },
     "user_tz": -330
    },
    "id": "Nc_6lslRW03g",
    "outputId": "a1dfd508-a458-454b-a63c-bcb7e264720e"
   },
   "outputs": [
    {
     "name": "stdout",
     "output_type": "stream",
     "text": [
      "10 10000\n",
      "9 9090.90909090909\n",
      "8 8264.462809917353\n",
      "7 7513.148009015775\n",
      "6 6830.134553650703\n",
      "5 6209.213230591548\n",
      "4 5644.739300537771\n",
      "3 5131.5811823070635\n",
      "2 4665.07380209733\n",
      "1 4240.976183724845\n"
     ]
    }
   ],
   "source": [
    "curr_pop = 10000\n",
    "\n",
    "for i in range(10,0,-1):\n",
    "  print(i,curr_pop)\n",
    "  curr_pop = curr_pop/1.1\n"
   ]
  },
  {
   "cell_type": "markdown",
   "metadata": {
    "id": "4xVI9HkgcEla"
   },
   "source": [
    "### Sequence sum\n",
    "\n",
    "1/1! + 2/2! + 3/3! + ..."
   ]
  },
  {
   "cell_type": "code",
   "execution_count": null,
   "metadata": {
    "id": "wGC1eCDecPcB"
   },
   "outputs": [],
   "source": [
    "# code here"
   ]
  },
  {
   "cell_type": "code",
   "execution_count": null,
   "metadata": {
    "id": "PNLWd1WR8dSw"
   },
   "outputs": [],
   "source": [
    "# For loop vs While loops (When to use what?)"
   ]
  },
  {
   "cell_type": "markdown",
   "metadata": {
    "id": "1bdP8FTX87Du"
   },
   "source": [
    "# Nested Loops"
   ]
  },
  {
   "cell_type": "code",
   "execution_count": null,
   "metadata": {
    "id": "-YY5edV98lXq"
   },
   "outputs": [],
   "source": [
    "# Examples"
   ]
  },
  {
   "cell_type": "code",
   "execution_count": null,
   "metadata": {
    "id": "Ym8nRkqxGXLN"
   },
   "outputs": [],
   "source": [
    "# Program - Unique combination of 1,2,3,4\n",
    "# Program - Pattern 1 and 2"
   ]
  },
  {
   "cell_type": "markdown",
   "metadata": {
    "id": "_Hz8L0f3c_3P"
   },
   "source": [
    "### Pattern 1\n",
    "\n",
    "\n",
    "*** <br>\n",
    "**** <br>\n",
    "***<br>\n"
   ]
  },
  {
   "cell_type": "code",
   "execution_count": null,
   "metadata": {
    "id": "YsL_YmxRdNrn"
   },
   "outputs": [],
   "source": []
  },
  {
   "cell_type": "markdown",
   "metadata": {
    "id": "eVAO3tVmdOWV"
   },
   "source": [
    "### Pattern 2\n",
    "\n",
    "1<br>\n",
    "121<br>\n",
    "12321<br>\n",
    "1234321<br>"
   ]
  },
  {
   "cell_type": "code",
   "execution_count": 5,
   "metadata": {
    "id": "sHW4YJqcdXzw"
   },
   "outputs": [
    {
     "name": "stdout",
     "output_type": "stream",
     "text": [
      "1\n",
      "3\n",
      "5\n",
      "7\n",
      "9\n"
     ]
    }
   ],
   "source": [
    "for i in range(10):\n",
    "    if i%2==0:\n",
    "        continue\n",
    "    print(i)\n",
    "        "
   ]
  },
  {
   "cell_type": "code",
   "execution_count": 7,
   "metadata": {},
   "outputs": [
    {
     "name": "stdout",
     "output_type": "stream",
     "text": [
      "1\n"
     ]
    }
   ],
   "source": [
    "for i in range(1, 10):\n",
    "    if i%2==0:\n",
    "        break\n",
    "    print(i)\n",
    "        "
   ]
  },
  {
   "cell_type": "code",
   "execution_count": 8,
   "metadata": {},
   "outputs": [
    {
     "name": "stdout",
     "output_type": "stream",
     "text": [
      "1\n",
      "2\n",
      "3\n",
      "4\n",
      "5\n",
      "6\n",
      "7\n",
      "8\n",
      "9\n"
     ]
    }
   ],
   "source": [
    "for i in range(1, 10):\n",
    "    if i%2==0:\n",
    "        pass\n",
    "    print(i)\n",
    "        "
   ]
  },
  {
   "cell_type": "markdown",
   "metadata": {
    "id": "8GccSRIt891U"
   },
   "source": [
    "# Loop Control Statement\n",
    "\n",
    "- Break\n",
    "- Continue\n",
    "- Pass"
   ]
  },
  {
   "cell_type": "code",
   "execution_count": null,
   "metadata": {
    "id": "kN9s2dG89DlJ"
   },
   "outputs": [],
   "source": [
    "# Break demo"
   ]
  },
  {
   "cell_type": "code",
   "execution_count": null,
   "metadata": {
    "id": "u09EdMCm9FK_"
   },
   "outputs": [],
   "source": [
    "# Break example (Linear Search) -> Prime number in a given range"
   ]
  },
  {
   "cell_type": "code",
   "execution_count": null,
   "metadata": {
    "id": "3q5asa2l9GYy"
   },
   "outputs": [],
   "source": [
    "# Continue demo"
   ]
  },
  {
   "cell_type": "code",
   "execution_count": null,
   "metadata": {
    "id": "cA8CiMgn9IIT"
   },
   "outputs": [],
   "source": [
    "# Continue Example (Ecommerce)"
   ]
  },
  {
   "cell_type": "code",
   "execution_count": null,
   "metadata": {
    "id": "P7GB16j59J-3"
   },
   "outputs": [],
   "source": [
    "# Pass demo"
   ]
  }
 ],
 "metadata": {
  "colab": {
   "provenance": [
    {
     "file_id": "1dJIncqudN2wFNZ1P3_1sdJX76pzw-s-4",
     "timestamp": 1689139548429
    }
   ]
  },
  "kernelspec": {
   "display_name": "Python 3 (ipykernel)",
   "language": "python",
   "name": "python3"
  },
  "language_info": {
   "codemirror_mode": {
    "name": "ipython",
    "version": 3
   },
   "file_extension": ".py",
   "mimetype": "text/x-python",
   "name": "python",
   "nbconvert_exporter": "python",
   "pygments_lexer": "ipython3",
   "version": "3.9.13"
  }
 },
 "nbformat": 4,
 "nbformat_minor": 1
}
