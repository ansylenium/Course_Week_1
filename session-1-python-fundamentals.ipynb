{
 "cells": [
  {
   "cell_type": "markdown",
   "metadata": {
    "id": "YsLB36tWHEwz"
   },
   "source": [
    "# 1. Python Output"
   ]
  },
  {
   "cell_type": "code",
   "execution_count": 13,
   "metadata": {
    "colab": {
     "base_uri": "https://localhost:8080/"
    },
    "executionInfo": {
     "elapsed": 22,
     "status": "ok",
     "timestamp": 1690385326794,
     "user": {
      "displayName": "Ansyl Pinto",
      "userId": "16721353128853766479"
     },
     "user_tz": -330
    },
    "id": "5l246_zLHIEV",
    "outputId": "49794ad1-aecf-4576-ee01-99d07f160dbd"
   },
   "outputs": [
    {
     "name": "stdout",
     "output_type": "stream",
     "text": [
      "Hello World\n"
     ]
    }
   ],
   "source": [
    "# Python is a case sensitive language\n",
    "print('Hello World')"
   ]
  },
  {
   "cell_type": "code",
   "execution_count": 14,
   "metadata": {
    "colab": {
     "base_uri": "https://localhost:8080/"
    },
    "executionInfo": {
     "elapsed": 17,
     "status": "ok",
     "timestamp": 1690385326794,
     "user": {
      "displayName": "Ansyl Pinto",
      "userId": "16721353128853766479"
     },
     "user_tz": -330
    },
    "id": "OErEI7l8mCiC",
    "outputId": "256ecea3-d6ff-4c61-c077-e3bc346f82da"
   },
   "outputs": [
    {
     "name": "stdout",
     "output_type": "stream",
     "text": [
      "salman khan\n"
     ]
    }
   ],
   "source": [
    "print('salman khan')"
   ]
  },
  {
   "cell_type": "code",
   "execution_count": 15,
   "metadata": {
    "executionInfo": {
     "elapsed": 16,
     "status": "ok",
     "timestamp": 1690385326795,
     "user": {
      "displayName": "Ansyl Pinto",
      "userId": "16721353128853766479"
     },
     "user_tz": -330
    },
    "id": "bGdSXNW0mHci"
   },
   "outputs": [],
   "source": [
    "# print(salman khan)"
   ]
  },
  {
   "cell_type": "code",
   "execution_count": 16,
   "metadata": {
    "colab": {
     "base_uri": "https://localhost:8080/"
    },
    "executionInfo": {
     "elapsed": 15,
     "status": "ok",
     "timestamp": 1690385326795,
     "user": {
      "displayName": "Ansyl Pinto",
      "userId": "16721353128853766479"
     },
     "user_tz": -330
    },
    "id": "aFr6XX8bmTRe",
    "outputId": "acdde9a0-311f-4d7a-824e-82188031b40b"
   },
   "outputs": [
    {
     "name": "stdout",
     "output_type": "stream",
     "text": [
      "7\n"
     ]
    }
   ],
   "source": [
    "print(7)"
   ]
  },
  {
   "cell_type": "code",
   "execution_count": 17,
   "metadata": {
    "colab": {
     "base_uri": "https://localhost:8080/"
    },
    "executionInfo": {
     "elapsed": 13,
     "status": "ok",
     "timestamp": 1690385326795,
     "user": {
      "displayName": "Ansyl Pinto",
      "userId": "16721353128853766479"
     },
     "user_tz": -330
    },
    "id": "fqM5TR1kmW9y",
    "outputId": "fbd0b89a-15f3-4d0f-b1e4-674188c75ff9"
   },
   "outputs": [
    {
     "name": "stdout",
     "output_type": "stream",
     "text": [
      "7.7\n"
     ]
    }
   ],
   "source": [
    "print(7.7)"
   ]
  },
  {
   "cell_type": "code",
   "execution_count": 18,
   "metadata": {
    "colab": {
     "base_uri": "https://localhost:8080/"
    },
    "executionInfo": {
     "elapsed": 12,
     "status": "ok",
     "timestamp": 1690385326796,
     "user": {
      "displayName": "Ansyl Pinto",
      "userId": "16721353128853766479"
     },
     "user_tz": -330
    },
    "id": "w6S9LAPnmZLN",
    "outputId": "a6061c84-add2-439a-da23-48bb27cec753"
   },
   "outputs": [
    {
     "name": "stdout",
     "output_type": "stream",
     "text": [
      "True\n"
     ]
    }
   ],
   "source": [
    "print(True)"
   ]
  },
  {
   "cell_type": "code",
   "execution_count": 19,
   "metadata": {
    "colab": {
     "base_uri": "https://localhost:8080/"
    },
    "executionInfo": {
     "elapsed": 11,
     "status": "ok",
     "timestamp": 1690385326796,
     "user": {
      "displayName": "Ansyl Pinto",
      "userId": "16721353128853766479"
     },
     "user_tz": -330
    },
    "id": "y-NL43EFmi-n",
    "outputId": "f973e00d-2fb5-4756-d397-85ef597a1e67"
   },
   "outputs": [
    {
     "name": "stdout",
     "output_type": "stream",
     "text": [
      "Hello 1 4.5 True\n"
     ]
    }
   ],
   "source": [
    "print('Hello', 1, 4.5, True)"
   ]
  },
  {
   "cell_type": "code",
   "execution_count": 20,
   "metadata": {
    "colab": {
     "base_uri": "https://localhost:8080/"
    },
    "executionInfo": {
     "elapsed": 9,
     "status": "ok",
     "timestamp": 1690385326796,
     "user": {
      "displayName": "Ansyl Pinto",
      "userId": "16721353128853766479"
     },
     "user_tz": -330
    },
    "id": "APl7m_hom225",
    "outputId": "4d809e60-7247-4a47-dcd8-f26fe7df75ba"
   },
   "outputs": [
    {
     "name": "stdout",
     "output_type": "stream",
     "text": [
      "Hello/1/4.5/True\n"
     ]
    }
   ],
   "source": [
    "# Default seperator is space\n",
    "print('Hello', 1, 4.5, True, sep='/')"
   ]
  },
  {
   "cell_type": "code",
   "execution_count": 21,
   "metadata": {
    "colab": {
     "base_uri": "https://localhost:8080/"
    },
    "executionInfo": {
     "elapsed": 7,
     "status": "ok",
     "timestamp": 1690385326796,
     "user": {
      "displayName": "Ansyl Pinto",
      "userId": "16721353128853766479"
     },
     "user_tz": -330
    },
    "id": "7mGPkXASnXxx",
    "outputId": "394194c6-2a7a-4ea1-beb0-bf13e2f6e128"
   },
   "outputs": [
    {
     "name": "stdout",
     "output_type": "stream",
     "text": [
      "hello\n",
      "world\n"
     ]
    }
   ],
   "source": [
    "print('hello')\n",
    "print('world')"
   ]
  },
  {
   "cell_type": "code",
   "execution_count": 22,
   "metadata": {
    "colab": {
     "base_uri": "https://localhost:8080/"
    },
    "executionInfo": {
     "elapsed": 547,
     "status": "ok",
     "timestamp": 1690385552980,
     "user": {
      "displayName": "Ansyl Pinto",
      "userId": "16721353128853766479"
     },
     "user_tz": -330
    },
    "id": "0m4dTp6gngVj",
    "outputId": "96b0de66-c2e1-45b1-c62c-8dd16d67a89e"
   },
   "outputs": [
    {
     "name": "stdout",
     "output_type": "stream",
     "text": [
      "hello-world|Ansyl\n"
     ]
    }
   ],
   "source": [
    "# Default end = \\n so if we change that next print will be on same line\n",
    "# 'hello'-'world'\\n'Ansyl'\n",
    "print('hello', end='-')\n",
    "print('world', 'Ansyl', sep='|')"
   ]
  },
  {
   "cell_type": "code",
   "execution_count": 23,
   "metadata": {
    "colab": {
     "base_uri": "https://localhost:8080/"
    },
    "executionInfo": {
     "elapsed": 7,
     "status": "ok",
     "timestamp": 1690385595557,
     "user": {
      "displayName": "Ansyl Pinto",
      "userId": "16721353128853766479"
     },
     "user_tz": -330
    },
    "id": "c9fbtNBY1KNC",
    "outputId": "722cc367-a662-4967-b55c-fc67dfd0f169"
   },
   "outputs": [
    {
     "name": "stdout",
     "output_type": "stream",
     "text": [
      "Hi,2,3hehehe Hey\n"
     ]
    }
   ],
   "source": [
    "print(\"Hi\", 2, 3, sep=\",\", end=\"hehehe \")\n",
    "print(\"Hey\")"
   ]
  },
  {
   "cell_type": "markdown",
   "metadata": {
    "id": "BzuI6KObHLBH"
   },
   "source": [
    "# 2. Data Types"
   ]
  },
  {
   "cell_type": "code",
   "execution_count": 24,
   "metadata": {
    "colab": {
     "base_uri": "https://localhost:8080/"
    },
    "executionInfo": {
     "elapsed": 698,
     "status": "ok",
     "timestamp": 1690385630132,
     "user": {
      "displayName": "Ansyl Pinto",
      "userId": "16721353128853766479"
     },
     "user_tz": -330
    },
    "id": "0AD2yELLHOD5",
    "outputId": "78270497-8e76-448a-8d90-e7cab103adae"
   },
   "outputs": [
    {
     "name": "stdout",
     "output_type": "stream",
     "text": [
      "8\n",
      "1e+308\n"
     ]
    }
   ],
   "source": [
    "# Integer\n",
    "print(8)\n",
    "# 1*10^308\n",
    "print(1e308)"
   ]
  },
  {
   "cell_type": "code",
   "execution_count": 25,
   "metadata": {
    "colab": {
     "base_uri": "https://localhost:8080/"
    },
    "executionInfo": {
     "elapsed": 3,
     "status": "ok",
     "timestamp": 1690385630132,
     "user": {
      "displayName": "Ansyl Pinto",
      "userId": "16721353128853766479"
     },
     "user_tz": -330
    },
    "id": "J5JNservA1WI",
    "outputId": "8e13ba10-6c25-49ba-8f4e-854366bbe51e"
   },
   "outputs": [
    {
     "data": {
      "text/plain": [
       "500.0"
      ]
     },
     "execution_count": 25,
     "metadata": {},
     "output_type": "execute_result"
    }
   ],
   "source": [
    "5e2"
   ]
  },
  {
   "cell_type": "code",
   "execution_count": 26,
   "metadata": {
    "colab": {
     "base_uri": "https://localhost:8080/"
    },
    "executionInfo": {
     "elapsed": 2,
     "status": "ok",
     "timestamp": 1690385630579,
     "user": {
      "displayName": "Ansyl Pinto",
      "userId": "16721353128853766479"
     },
     "user_tz": -330
    },
    "id": "bEm8guCeSEC6",
    "outputId": "6fdce151-723c-41af-bbbd-084bf98c5b8f"
   },
   "outputs": [
    {
     "name": "stdout",
     "output_type": "stream",
     "text": [
      "inf\n"
     ]
    }
   ],
   "source": [
    "print(1e309)"
   ]
  },
  {
   "cell_type": "code",
   "execution_count": 27,
   "metadata": {
    "colab": {
     "base_uri": "https://localhost:8080/"
    },
    "executionInfo": {
     "elapsed": 3,
     "status": "ok",
     "timestamp": 1690385631139,
     "user": {
      "displayName": "Ansyl Pinto",
      "userId": "16721353128853766479"
     },
     "user_tz": -330
    },
    "id": "6zf6tCPNoZqc",
    "outputId": "6ecd06bc-ac25-47eb-e715-223d13f18ae4"
   },
   "outputs": [
    {
     "name": "stdout",
     "output_type": "stream",
     "text": [
      "8.55\n",
      "inf\n"
     ]
    }
   ],
   "source": [
    "# Decimal/Float\n",
    "print(8.55)\n",
    "print(1.7e309)"
   ]
  },
  {
   "cell_type": "code",
   "execution_count": 28,
   "metadata": {
    "colab": {
     "base_uri": "https://localhost:8080/"
    },
    "executionInfo": {
     "elapsed": 2,
     "status": "ok",
     "timestamp": 1690385634131,
     "user": {
      "displayName": "Ansyl Pinto",
      "userId": "16721353128853766479"
     },
     "user_tz": -330
    },
    "id": "VN8v8HEQoZ3X",
    "outputId": "307b37bd-1313-4d64-8797-9a5521831049"
   },
   "outputs": [
    {
     "name": "stdout",
     "output_type": "stream",
     "text": [
      "True\n",
      "False\n"
     ]
    }
   ],
   "source": [
    "# Boolean\n",
    "print(True)\n",
    "print(False)"
   ]
  },
  {
   "cell_type": "code",
   "execution_count": 29,
   "metadata": {
    "colab": {
     "base_uri": "https://localhost:8080/"
    },
    "executionInfo": {
     "elapsed": 2,
     "status": "ok",
     "timestamp": 1690385634734,
     "user": {
      "displayName": "Ansyl Pinto",
      "userId": "16721353128853766479"
     },
     "user_tz": -330
    },
    "id": "NEwaubEvpJen",
    "outputId": "17be82a2-3cec-4d09-e236-027c78afa689"
   },
   "outputs": [
    {
     "name": "stdout",
     "output_type": "stream",
     "text": [
      "Hello World\n"
     ]
    }
   ],
   "source": [
    "# Text/String\n",
    "print('Hello World')"
   ]
  },
  {
   "cell_type": "code",
   "execution_count": 30,
   "metadata": {
    "colab": {
     "base_uri": "https://localhost:8080/"
    },
    "executionInfo": {
     "elapsed": 7,
     "status": "ok",
     "timestamp": 1690385635295,
     "user": {
      "displayName": "Ansyl Pinto",
      "userId": "16721353128853766479"
     },
     "user_tz": -330
    },
    "id": "L60DWHUVpQzj",
    "outputId": "4c1c5f62-bdac-431b-9e81-282d1e9b881c"
   },
   "outputs": [
    {
     "name": "stdout",
     "output_type": "stream",
     "text": [
      "(5+6j)\n"
     ]
    }
   ],
   "source": [
    "# complex\n",
    "print(5+6j)"
   ]
  },
  {
   "cell_type": "code",
   "execution_count": 31,
   "metadata": {
    "colab": {
     "base_uri": "https://localhost:8080/"
    },
    "executionInfo": {
     "elapsed": 2,
     "status": "ok",
     "timestamp": 1690385635688,
     "user": {
      "displayName": "Ansyl Pinto",
      "userId": "16721353128853766479"
     },
     "user_tz": -330
    },
    "id": "u0qI-mUZpWRh",
    "outputId": "01ef0e93-1cda-4fca-d5f9-546ab4e83d9d"
   },
   "outputs": [
    {
     "name": "stdout",
     "output_type": "stream",
     "text": [
      "[1, 2, 3, 4, 5]\n"
     ]
    }
   ],
   "source": [
    "# List-> C-> Array\n",
    "print([1,2,3,4,5])"
   ]
  },
  {
   "cell_type": "code",
   "execution_count": 32,
   "metadata": {
    "colab": {
     "base_uri": "https://localhost:8080/"
    },
    "executionInfo": {
     "elapsed": 4,
     "status": "ok",
     "timestamp": 1690385637960,
     "user": {
      "displayName": "Ansyl Pinto",
      "userId": "16721353128853766479"
     },
     "user_tz": -330
    },
    "id": "Futbt8RJpefw",
    "outputId": "646fdebf-c6a5-4a27-e4d4-37ff8340fbb9"
   },
   "outputs": [
    {
     "name": "stdout",
     "output_type": "stream",
     "text": [
      "(1, 2, 3, 4, 5)\n"
     ]
    }
   ],
   "source": [
    "# Tuple\n",
    "print((1,2,3,4,5))"
   ]
  },
  {
   "cell_type": "code",
   "execution_count": 33,
   "metadata": {
    "colab": {
     "base_uri": "https://localhost:8080/"
    },
    "executionInfo": {
     "elapsed": 6,
     "status": "ok",
     "timestamp": 1690385638355,
     "user": {
      "displayName": "Ansyl Pinto",
      "userId": "16721353128853766479"
     },
     "user_tz": -330
    },
    "id": "WW-etE4BplMR",
    "outputId": "7a7ac64d-b111-4345-c425-4d21ff8fc904"
   },
   "outputs": [
    {
     "name": "stdout",
     "output_type": "stream",
     "text": [
      "{1, 2, 3, 4, 5}\n"
     ]
    }
   ],
   "source": [
    "# Sets\n",
    "print({1,2,3,4,5})"
   ]
  },
  {
   "cell_type": "code",
   "execution_count": 34,
   "metadata": {
    "colab": {
     "base_uri": "https://localhost:8080/"
    },
    "executionInfo": {
     "elapsed": 7,
     "status": "ok",
     "timestamp": 1690385638358,
     "user": {
      "displayName": "Ansyl Pinto",
      "userId": "16721353128853766479"
     },
     "user_tz": -330
    },
    "id": "ssWbznaaprT6",
    "outputId": "562eb3be-deb8-4f93-d741-ae15e737355b"
   },
   "outputs": [
    {
     "name": "stdout",
     "output_type": "stream",
     "text": [
      "{'name': 'Nitish', 'gender': 'Male', 'weight': 70}\n"
     ]
    }
   ],
   "source": [
    "# Dictionary\n",
    "print({'name':'Nitish','gender':'Male','weight':70})"
   ]
  },
  {
   "cell_type": "code",
   "execution_count": 35,
   "metadata": {
    "colab": {
     "base_uri": "https://localhost:8080/"
    },
    "executionInfo": {
     "elapsed": 3,
     "status": "ok",
     "timestamp": 1690385640038,
     "user": {
      "displayName": "Ansyl Pinto",
      "userId": "16721353128853766479"
     },
     "user_tz": -330
    },
    "id": "NAJzbOAsq3bG",
    "outputId": "b6645fec-4d11-4ae7-b2a3-af934a168939"
   },
   "outputs": [
    {
     "data": {
      "text/plain": [
       "list"
      ]
     },
     "execution_count": 35,
     "metadata": {},
     "output_type": "execute_result"
    }
   ],
   "source": [
    "# type\n",
    "type([1,2,3])"
   ]
  },
  {
   "cell_type": "markdown",
   "metadata": {
    "id": "kYD63MF7HOyJ"
   },
   "source": [
    "# 3. Variables"
   ]
  },
  {
   "cell_type": "code",
   "execution_count": 36,
   "metadata": {
    "id": "op579nCUHQ24"
   },
   "outputs": [],
   "source": [
    "# Static Vs Dynamic Typing\n",
    "# Static Vs Dynamic Binding\n",
    "# Stylish declaration techniques\n",
    "# Python is interpreted language"
   ]
  },
  {
   "cell_type": "code",
   "execution_count": 37,
   "metadata": {
    "colab": {
     "base_uri": "https://localhost:8080/"
    },
    "executionInfo": {
     "elapsed": 427,
     "status": "ok",
     "timestamp": 1690385645779,
     "user": {
      "displayName": "Ansyl Pinto",
      "userId": "16721353128853766479"
     },
     "user_tz": -330
    },
    "id": "CGybFhzvrjB6",
    "outputId": "378b4bc5-2d53-4b91-bb51-58e6620f0a98"
   },
   "outputs": [
    {
     "name": "stdout",
     "output_type": "stream",
     "text": [
      "nitish\n",
      "11\n"
     ]
    }
   ],
   "source": [
    "# C/C++\n",
    "name = 'nitish'\n",
    "print(name)\n",
    "\n",
    "a = 5\n",
    "b = 6\n",
    "\n",
    "print(a + b)"
   ]
  },
  {
   "cell_type": "code",
   "execution_count": 38,
   "metadata": {
    "executionInfo": {
     "elapsed": 2,
     "status": "ok",
     "timestamp": 1690385646188,
     "user": {
      "displayName": "Ansyl Pinto",
      "userId": "16721353128853766479"
     },
     "user_tz": -330
    },
    "id": "K6LN3JhfsKIp"
   },
   "outputs": [],
   "source": [
    "# Dynamic Typing\n",
    "a = 5\n",
    "# Static Typing(mostly specific to low level languages)\n",
    "# int a = 5"
   ]
  },
  {
   "cell_type": "code",
   "execution_count": 39,
   "metadata": {
    "colab": {
     "base_uri": "https://localhost:8080/"
    },
    "executionInfo": {
     "elapsed": 383,
     "status": "ok",
     "timestamp": 1690385650573,
     "user": {
      "displayName": "Ansyl Pinto",
      "userId": "16721353128853766479"
     },
     "user_tz": -330
    },
    "id": "5UpzC2tlskka",
    "outputId": "499eb773-af18-4595-85d1-6e67520ea76d"
   },
   "outputs": [
    {
     "name": "stdout",
     "output_type": "stream",
     "text": [
      "5\n",
      "nitish\n"
     ]
    }
   ],
   "source": [
    "# Dynamic Binding(We can change datatype in Python)\n",
    "a = 5\n",
    "print(a)\n",
    "a = 'nitish'\n",
    "print(a)\n",
    "\n",
    "# Static Binding\n",
    "#int a = 5\n"
   ]
  },
  {
   "cell_type": "code",
   "execution_count": 40,
   "metadata": {
    "colab": {
     "base_uri": "https://localhost:8080/"
    },
    "executionInfo": {
     "elapsed": 432,
     "status": "ok",
     "timestamp": 1690385657091,
     "user": {
      "displayName": "Ansyl Pinto",
      "userId": "16721353128853766479"
     },
     "user_tz": -330
    },
    "id": "-PObryFetHAE",
    "outputId": "65ac47a3-53d6-4fb7-cd9a-6aebcd706a0f"
   },
   "outputs": [
    {
     "name": "stdout",
     "output_type": "stream",
     "text": [
      "1 2 3\n"
     ]
    }
   ],
   "source": [
    "a = 1\n",
    "b = 2\n",
    "c = 3\n",
    "print(a,b,c)"
   ]
  },
  {
   "cell_type": "code",
   "execution_count": 41,
   "metadata": {
    "colab": {
     "base_uri": "https://localhost:8080/"
    },
    "executionInfo": {
     "elapsed": 4,
     "status": "ok",
     "timestamp": 1690385657513,
     "user": {
      "displayName": "Ansyl Pinto",
      "userId": "16721353128853766479"
     },
     "user_tz": -330
    },
    "id": "AYkxWEMItN9K",
    "outputId": "85e245fb-862a-45af-b777-01c96a7fc6af"
   },
   "outputs": [
    {
     "name": "stdout",
     "output_type": "stream",
     "text": [
      "1 2 3\n"
     ]
    }
   ],
   "source": [
    "a,b,c = 1,2,3\n",
    "print(a,b,c)"
   ]
  },
  {
   "cell_type": "code",
   "execution_count": 42,
   "metadata": {
    "colab": {
     "base_uri": "https://localhost:8080/"
    },
    "executionInfo": {
     "elapsed": 5,
     "status": "ok",
     "timestamp": 1690385658076,
     "user": {
      "displayName": "Ansyl Pinto",
      "userId": "16721353128853766479"
     },
     "user_tz": -330
    },
    "id": "gcaARQh6tUtP",
    "outputId": "15353f18-ad59-42b8-93a3-5d71687558e3"
   },
   "outputs": [
    {
     "name": "stdout",
     "output_type": "stream",
     "text": [
      "5 5 5\n"
     ]
    }
   ],
   "source": [
    "a=b=c= 5\n",
    "print(a,b,c)"
   ]
  },
  {
   "cell_type": "markdown",
   "metadata": {
    "id": "yFj92Q4FubDk"
   },
   "source": [
    "# Comments"
   ]
  },
  {
   "cell_type": "code",
   "execution_count": 43,
   "metadata": {
    "colab": {
     "base_uri": "https://localhost:8080/"
    },
    "executionInfo": {
     "elapsed": 407,
     "status": "ok",
     "timestamp": 1690385674212,
     "user": {
      "displayName": "Ansyl Pinto",
      "userId": "16721353128853766479"
     },
     "user_tz": -330
    },
    "id": "4FJF20FiudCO",
    "outputId": "a645794f-f227-42a5-e3c9-1b2d4565392b"
   },
   "outputs": [
    {
     "name": "stdout",
     "output_type": "stream",
     "text": [
      "10\n"
     ]
    }
   ],
   "source": [
    "# this is a comment\n",
    "# second line\n",
    "a = 4\n",
    "b = 6 # like this\n",
    "# second comment\n",
    "print(a+b)"
   ]
  },
  {
   "cell_type": "markdown",
   "metadata": {
    "id": "jMHr-5raHRpW"
   },
   "source": [
    "# 4. Keywords & Identifiers"
   ]
  },
  {
   "cell_type": "code",
   "execution_count": null,
   "metadata": {
    "id": "frABVH7pHXF8"
   },
   "outputs": [],
   "source": [
    "# Keywords if else True False while not to be used for variable names etc\n",
    "# Java, C, C++ are compiled language and Python in interpreted. Compilers and Interpreters convert code to binary. Compiler compiles all code together, Python line by line"
   ]
  },
  {
   "cell_type": "code",
   "execution_count": 44,
   "metadata": {
    "colab": {
     "base_uri": "https://localhost:8080/"
    },
    "executionInfo": {
     "elapsed": 7,
     "status": "ok",
     "timestamp": 1689231129740,
     "user": {
      "displayName": "Ansyl Pinto",
      "userId": "16721353128853766479"
     },
     "user_tz": -330
    },
    "id": "5EFqNEfpwwS5",
    "outputId": "9d99dfcb-40bd-423b-95eb-8476bea3e7c6"
   },
   "outputs": [
    {
     "name": "stdout",
     "output_type": "stream",
     "text": [
      "Nitish\n",
      "ntiish\n"
     ]
    }
   ],
   "source": [
    "# Identifiers - name of variables\n",
    "# You can't start with a digit\n",
    "\n",
    "name1 = 'Nitish'\n",
    "print(name1)\n",
    "# You can use special chars -> _\n",
    "_ = 'ntiish'\n",
    "print(_)\n",
    "# identiers can not be keyword"
   ]
  },
  {
   "cell_type": "markdown",
   "metadata": {
    "id": "YkAqDv9Dwxcv"
   },
   "source": [
    "# Temp Heading"
   ]
  },
  {
   "cell_type": "markdown",
   "metadata": {
    "id": "EsWPc3AvHYTJ"
   },
   "source": [
    "# 5. User Input"
   ]
  },
  {
   "cell_type": "code",
   "execution_count": 45,
   "metadata": {
    "colab": {
     "base_uri": "https://localhost:8080/",
     "height": 53
    },
    "executionInfo": {
     "elapsed": 4254,
     "status": "ok",
     "timestamp": 1689231197118,
     "user": {
      "displayName": "Ansyl Pinto",
      "userId": "16721353128853766479"
     },
     "user_tz": -330
    },
    "id": "seRvw18RHhIo",
    "outputId": "84509499-84dc-4f4d-8af7-ee17fcd72917"
   },
   "outputs": [
    {
     "name": "stdout",
     "output_type": "stream",
     "text": [
      "Enter Emailansyl\n"
     ]
    },
    {
     "data": {
      "text/plain": [
       "'ansyl'"
      ]
     },
     "execution_count": 45,
     "metadata": {},
     "output_type": "execute_result"
    }
   ],
   "source": [
    "# Static Vs Dynamic\n",
    "input('Enter Email')"
   ]
  },
  {
   "cell_type": "code",
   "execution_count": 46,
   "metadata": {
    "colab": {
     "base_uri": "https://localhost:8080/"
    },
    "executionInfo": {
     "elapsed": 6256,
     "status": "ok",
     "timestamp": 1689231203363,
     "user": {
      "displayName": "Ansyl Pinto",
      "userId": "16721353128853766479"
     },
     "user_tz": -330
    },
    "id": "HDIZMv91zbXY",
    "outputId": "c39cf866-e741-4899-bbf0-7c28fcb918b9"
   },
   "outputs": [
    {
     "name": "stdout",
     "output_type": "stream",
     "text": [
      "enter first number1\n",
      "enter second number2\n",
      "3\n",
      "<class 'int'>\n"
     ]
    }
   ],
   "source": [
    "# take input from users and store them in a variable\n",
    "# string is a universal format it can store any data type within while vice versa not true\n",
    "fnum = int(input('enter first number')) # converting to int as input assumes we get string input\n",
    "snum = int(input('enter second number'))\n",
    "\n",
    "#print(type(fnum),type(snum))\n",
    "\n",
    "# add the 2 variables\n",
    "result = fnum + snum\n",
    "\n",
    "# print the result\n",
    "print(result)\n",
    "print(type(fnum))"
   ]
  },
  {
   "cell_type": "markdown",
   "metadata": {
    "id": "TKQ78geyHhz7"
   },
   "source": [
    "# 6. Type Conversion\n",
    "\n",
    "> Indented block\n",
    "\n"
   ]
  },
  {
   "cell_type": "code",
   "execution_count": 47,
   "metadata": {
    "colab": {
     "base_uri": "https://localhost:8080/"
    },
    "executionInfo": {
     "elapsed": 3,
     "status": "ok",
     "timestamp": 1689136068777,
     "user": {
      "displayName": "Ansyl Pinto",
      "userId": "16721353128853766479"
     },
     "user_tz": -330
    },
    "id": "BEuLxINMHnzk",
    "outputId": "880e34a3-7526-47be-b892-b5ec933da0df"
   },
   "outputs": [
    {
     "name": "stdout",
     "output_type": "stream",
     "text": [
      "10.6\n",
      "<class 'int'> <class 'float'>\n"
     ]
    }
   ],
   "source": [
    "# Implicit Vs Explicit\n",
    "\n",
    "# Implicit Conversion\n",
    "print(5+5.6)\n",
    "print(type(5), type(5.6))"
   ]
  },
  {
   "cell_type": "code",
   "execution_count": 48,
   "metadata": {
    "id": "HdXaE-RtWwuX"
   },
   "outputs": [],
   "source": [
    "# print(4 + '4') # This won't work"
   ]
  },
  {
   "cell_type": "code",
   "execution_count": 49,
   "metadata": {
    "colab": {
     "base_uri": "https://localhost:8080/"
    },
    "executionInfo": {
     "elapsed": 486,
     "status": "ok",
     "timestamp": 1689231260317,
     "user": {
      "displayName": "Ansyl Pinto",
      "userId": "16721353128853766479"
     },
     "user_tz": -330
    },
    "id": "-dyXjVl7115d",
    "outputId": "6f2351ff-8a91-474b-b4db-884ad737ab52"
   },
   "outputs": [
    {
     "data": {
      "text/plain": [
       "4.0"
      ]
     },
     "execution_count": 49,
     "metadata": {},
     "output_type": "execute_result"
    }
   ],
   "source": [
    "# Explicit\n",
    "# str -> int\n",
    "#int(4+5j)\n",
    "\n",
    "# int to str\n",
    "str(5)\n",
    "\n",
    "# float\n",
    "float(4)"
   ]
  },
  {
   "cell_type": "markdown",
   "metadata": {
    "id": "7skMGSSFHoWw"
   },
   "source": [
    "# 7. Literals"
   ]
  },
  {
   "cell_type": "code",
   "execution_count": 50,
   "metadata": {
    "id": "tXf2ti-qX4bx"
   },
   "outputs": [],
   "source": [
    "# a = 2 ,  a is variable = is operator and 2 is literal"
   ]
  },
  {
   "cell_type": "code",
   "execution_count": 51,
   "metadata": {
    "colab": {
     "base_uri": "https://localhost:8080/"
    },
    "executionInfo": {
     "elapsed": 379,
     "status": "ok",
     "timestamp": 1689231265207,
     "user": {
      "displayName": "Ansyl Pinto",
      "userId": "16721353128853766479"
     },
     "user_tz": -330
    },
    "id": "4Q6wfNw1Huao",
    "outputId": "5617e34b-d72c-479b-de96-e41d1ddf75bf"
   },
   "outputs": [
    {
     "name": "stdout",
     "output_type": "stream",
     "text": [
      "10 100 200 300\n",
      "10.5 150.0 0.0015\n",
      "3.14j 3.14 0.0\n"
     ]
    }
   ],
   "source": [
    "a = 0b1010 #Binary Literals\n",
    "b = 100 #Decimal Literal\n",
    "c = 0o310 #Octal Literal\n",
    "d = 0x12c #Hexadecimal Literal\n",
    "\n",
    "#Float Literal\n",
    "float_1 = 10.5\n",
    "float_2 = 1.5e2 # 1.5 * 10^2\n",
    "float_3 = 1.5e-3 # 1.5 * 10^-3\n",
    "\n",
    "#Complex Literal\n",
    "x = 3.14j\n",
    "\n",
    "print(a, b, c, d)\n",
    "\n",
    "print(float_1, float_2,float_3)\n",
    "\n",
    "print(x, x.imag, x.real)"
   ]
  },
  {
   "cell_type": "code",
   "execution_count": 52,
   "metadata": {
    "colab": {
     "base_uri": "https://localhost:8080/"
    },
    "executionInfo": {
     "elapsed": 525,
     "status": "ok",
     "timestamp": 1689136457113,
     "user": {
      "displayName": "Ansyl Pinto",
      "userId": "16721353128853766479"
     },
     "user_tz": -330
    },
    "id": "8UhbuqqD4X4x",
    "outputId": "4a0484fc-6109-46df-a820-7dbdb4c872fd"
   },
   "outputs": [
    {
     "name": "stdout",
     "output_type": "stream",
     "text": [
      "3.14\n"
     ]
    }
   ],
   "source": [
    "# binary\n",
    "x = 3.14j\n",
    "print(x.imag)"
   ]
  },
  {
   "cell_type": "code",
   "execution_count": 53,
   "metadata": {
    "colab": {
     "base_uri": "https://localhost:8080/"
    },
    "executionInfo": {
     "elapsed": 363,
     "status": "ok",
     "timestamp": 1689231304163,
     "user": {
      "displayName": "Ansyl Pinto",
      "userId": "16721353128853766479"
     },
     "user_tz": -330
    },
    "id": "gPIDz0f6bwc1",
    "outputId": "487444c2-eefd-4592-e59a-eba46b901b43"
   },
   "outputs": [
    {
     "name": "stdout",
     "output_type": "stream",
     "text": [
      "This is Python\n",
      "This is Python\n",
      "C\n",
      "This is a multiline string with more than one line code.\n",
      "😀😆🤣\n",
      "raw \\n string\n"
     ]
    }
   ],
   "source": [
    "string = 'This is Python'\n",
    "strings = \"This is Python\"\n",
    "char = \"C\"\n",
    "multiline_str = \"\"\"This is a multiline string with more than one line code.\"\"\" # when we have multiline string\n",
    "unicode = u\"\\U0001f600\\U0001F606\\U0001F923\" # need to mention u in beginning for emoji\n",
    "raw_str = r\"raw \\n string\" # r for raw string\n",
    "\n",
    "print(string)\n",
    "print(strings)\n",
    "print(char)\n",
    "print(multiline_str)\n",
    "print(unicode)\n",
    "print(raw_str)"
   ]
  },
  {
   "cell_type": "code",
   "execution_count": 54,
   "metadata": {
    "colab": {
     "base_uri": "https://localhost:8080/"
    },
    "executionInfo": {
     "elapsed": 372,
     "status": "ok",
     "timestamp": 1689231366014,
     "user": {
      "displayName": "Ansyl Pinto",
      "userId": "16721353128853766479"
     },
     "user_tz": -330
    },
    "id": "78PBluZub3vT",
    "outputId": "810ce9dd-755e-410e-8faa-c9975ddeca97"
   },
   "outputs": [
    {
     "name": "stdout",
     "output_type": "stream",
     "text": [
      "a: 5\n",
      "b: 10\n"
     ]
    }
   ],
   "source": [
    "# True is 1 and False is 0\n",
    "a = True + 4\n",
    "b = False + 10\n",
    "\n",
    "print(\"a:\", a)\n",
    "print(\"b:\", b)"
   ]
  },
  {
   "cell_type": "code",
   "execution_count": 55,
   "metadata": {
    "colab": {
     "base_uri": "https://localhost:8080/"
    },
    "executionInfo": {
     "elapsed": 448,
     "status": "ok",
     "timestamp": 1689136628764,
     "user": {
      "displayName": "Ansyl Pinto",
      "userId": "16721353128853766479"
     },
     "user_tz": -330
    },
    "id": "g9ANbWx_b6q1",
    "outputId": "58a2b9fd-56fe-4c10-cde4-bce921df8198"
   },
   "outputs": [
    {
     "name": "stdout",
     "output_type": "stream",
     "text": [
      "Program exe\n"
     ]
    }
   ],
   "source": [
    "k = None # when we want to declare a variable for future variable\n",
    "a = 5\n",
    "b = 6\n",
    "print('Program exe')"
   ]
  },
  {
   "cell_type": "code",
   "execution_count": 56,
   "metadata": {
    "colab": {
     "base_uri": "https://localhost:8080/"
    },
    "executionInfo": {
     "elapsed": 6,
     "status": "ok",
     "timestamp": 1689136635589,
     "user": {
      "displayName": "Ansyl Pinto",
      "userId": "16721353128853766479"
     },
     "user_tz": -330
    },
    "id": "_MPu5MYCY4if",
    "outputId": "dd186dd7-79ef-4d18-e02e-d96149c9a017"
   },
   "outputs": [
    {
     "name": "stdout",
     "output_type": "stream",
     "text": [
      "None\n"
     ]
    }
   ],
   "source": [
    "print(k)"
   ]
  },
  {
   "cell_type": "markdown",
   "metadata": {
    "id": "4PmO0dSTHvWw"
   },
   "source": [
    "# 8. Operators"
   ]
  },
  {
   "cell_type": "code",
   "execution_count": null,
   "metadata": {
    "id": "jx4CVLt6HzFw"
   },
   "outputs": [],
   "source": [
    "# Arithmetic\n",
    "# Relational\n",
    "# Logical\n",
    "# Bitwise\n",
    "# Assignment\n",
    "# Membership"
   ]
  },
  {
   "cell_type": "markdown",
   "metadata": {
    "id": "7f8PYfUGH0GT"
   },
   "source": [
    "# 9. If-Else"
   ]
  },
  {
   "cell_type": "code",
   "execution_count": null,
   "metadata": {
    "id": "RivuEXxaH4dZ"
   },
   "outputs": [],
   "source": []
  }
 ],
 "metadata": {
  "colab": {
   "provenance": [
    {
     "file_id": "10jVbuKq2Owsz_hIIrXA9Y09DMLdDt_21",
     "timestamp": 1689136702886
    }
   ]
  },
  "kernelspec": {
   "display_name": "Python 3 (ipykernel)",
   "language": "python",
   "name": "python3"
  },
  "language_info": {
   "codemirror_mode": {
    "name": "ipython",
    "version": 3
   },
   "file_extension": ".py",
   "mimetype": "text/x-python",
   "name": "python",
   "nbconvert_exporter": "python",
   "pygments_lexer": "ipython3",
   "version": "3.9.13"
  }
 },
 "nbformat": 4,
 "nbformat_minor": 1
}
